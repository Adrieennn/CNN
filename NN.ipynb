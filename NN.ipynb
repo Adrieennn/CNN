{
 "cells": [
  {
   "cell_type": "markdown",
   "metadata": {},
   "source": [
    "# Evaluation of neural network architectures on MNIST datasets\n",
    "\n",
    "### Group Members \n",
    "                Yidong HUANG - yidong.huang@etu.univ-grenoble-alpes.fr\n",
    "                Simon ROBER - simon.rober@grenoble-inp.org\n",
    "                Marck-Edward KEMEH - marck.edward-kemeh@grenoble-inp.org\n",
    "## ABOUT\n",
    "The MNIST dataset is a large database of handwritten digits used in many forms of image processing.\n",
    "This dataset contains 60,000 training images and 10,000 test images. Our aim is to design some neural \n",
    "networks that can recognise these hand-written digits. our projects will be based on two different networks\n",
    "for this task.                   "
   ]
  },
  {
   "cell_type": "code",
   "execution_count": 4,
   "metadata": {},
   "outputs": [
    {
     "name": "stderr",
     "output_type": "stream",
     "text": [
      "/home/simon_rober/.local/lib/python3.6/site-packages/tensorflow/python/framework/dtypes.py:516: FutureWarning: Passing (type, 1) or '1type' as a synonym of type is deprecated; in a future version of numpy, it will be understood as (type, (1,)) / '(1,)type'.\n",
      "  _np_qint8 = np.dtype([(\"qint8\", np.int8, 1)])\n",
      "/home/simon_rober/.local/lib/python3.6/site-packages/tensorflow/python/framework/dtypes.py:517: FutureWarning: Passing (type, 1) or '1type' as a synonym of type is deprecated; in a future version of numpy, it will be understood as (type, (1,)) / '(1,)type'.\n",
      "  _np_quint8 = np.dtype([(\"quint8\", np.uint8, 1)])\n",
      "/home/simon_rober/.local/lib/python3.6/site-packages/tensorflow/python/framework/dtypes.py:518: FutureWarning: Passing (type, 1) or '1type' as a synonym of type is deprecated; in a future version of numpy, it will be understood as (type, (1,)) / '(1,)type'.\n",
      "  _np_qint16 = np.dtype([(\"qint16\", np.int16, 1)])\n",
      "/home/simon_rober/.local/lib/python3.6/site-packages/tensorflow/python/framework/dtypes.py:519: FutureWarning: Passing (type, 1) or '1type' as a synonym of type is deprecated; in a future version of numpy, it will be understood as (type, (1,)) / '(1,)type'.\n",
      "  _np_quint16 = np.dtype([(\"quint16\", np.uint16, 1)])\n",
      "/home/simon_rober/.local/lib/python3.6/site-packages/tensorflow/python/framework/dtypes.py:520: FutureWarning: Passing (type, 1) or '1type' as a synonym of type is deprecated; in a future version of numpy, it will be understood as (type, (1,)) / '(1,)type'.\n",
      "  _np_qint32 = np.dtype([(\"qint32\", np.int32, 1)])\n",
      "/home/simon_rober/.local/lib/python3.6/site-packages/tensorflow/python/framework/dtypes.py:525: FutureWarning: Passing (type, 1) or '1type' as a synonym of type is deprecated; in a future version of numpy, it will be understood as (type, (1,)) / '(1,)type'.\n",
      "  np_resource = np.dtype([(\"resource\", np.ubyte, 1)])\n",
      "/home/simon_rober/.local/lib/python3.6/site-packages/tensorboard/compat/tensorflow_stub/dtypes.py:541: FutureWarning: Passing (type, 1) or '1type' as a synonym of type is deprecated; in a future version of numpy, it will be understood as (type, (1,)) / '(1,)type'.\n",
      "  _np_qint8 = np.dtype([(\"qint8\", np.int8, 1)])\n",
      "/home/simon_rober/.local/lib/python3.6/site-packages/tensorboard/compat/tensorflow_stub/dtypes.py:542: FutureWarning: Passing (type, 1) or '1type' as a synonym of type is deprecated; in a future version of numpy, it will be understood as (type, (1,)) / '(1,)type'.\n",
      "  _np_quint8 = np.dtype([(\"quint8\", np.uint8, 1)])\n",
      "/home/simon_rober/.local/lib/python3.6/site-packages/tensorboard/compat/tensorflow_stub/dtypes.py:543: FutureWarning: Passing (type, 1) or '1type' as a synonym of type is deprecated; in a future version of numpy, it will be understood as (type, (1,)) / '(1,)type'.\n",
      "  _np_qint16 = np.dtype([(\"qint16\", np.int16, 1)])\n",
      "/home/simon_rober/.local/lib/python3.6/site-packages/tensorboard/compat/tensorflow_stub/dtypes.py:544: FutureWarning: Passing (type, 1) or '1type' as a synonym of type is deprecated; in a future version of numpy, it will be understood as (type, (1,)) / '(1,)type'.\n",
      "  _np_quint16 = np.dtype([(\"quint16\", np.uint16, 1)])\n",
      "/home/simon_rober/.local/lib/python3.6/site-packages/tensorboard/compat/tensorflow_stub/dtypes.py:545: FutureWarning: Passing (type, 1) or '1type' as a synonym of type is deprecated; in a future version of numpy, it will be understood as (type, (1,)) / '(1,)type'.\n",
      "  _np_qint32 = np.dtype([(\"qint32\", np.int32, 1)])\n",
      "/home/simon_rober/.local/lib/python3.6/site-packages/tensorboard/compat/tensorflow_stub/dtypes.py:550: FutureWarning: Passing (type, 1) or '1type' as a synonym of type is deprecated; in a future version of numpy, it will be understood as (type, (1,)) / '(1,)type'.\n",
      "  np_resource = np.dtype([(\"resource\", np.ubyte, 1)])\n"
     ]
    }
   ],
   "source": [
    "import numpy as np\n",
    "import tensorflow as tf\n",
    "import tensorflow.keras as keras\n",
    "import tensorflow.keras.layers as layers\n",
    "import tensorflow.keras.models as models\n",
    "import scikitplot as skplt\n",
    "import matplotlib.pyplot as plt\n",
    "import sklearn as skl\n",
    "from sklearn.metrics import roc_curve"
   ]
  },
  {
   "cell_type": "markdown",
   "metadata": {},
   "source": [
    "We begin by importing the MNIST dataset. The data set is predefined in a trainingset of 60000 training images and another set for testing of 10000 testing images. We use this predefined split in all our experiments. Furthermore we never mix both sets! We then normalize the test set and training set by dividing with 255 so that the values can be between 0 and 1.\n",
    "Because we will be working with convolutional neural network, we need to change the original shape of the MNIST dataset which is (60000, 28, 28) to that of the convolutional neural network (60000, 28, 28, 1).\n",
    "This section is just to prepare our dataset for the network."
   ]
  },
  {
   "cell_type": "code",
   "execution_count": 5,
   "metadata": {},
   "outputs": [
    {
     "name": "stdout",
     "output_type": "stream",
     "text": [
      "shape before adding dimension is : (60000, 28, 28)\n",
      "shape after adding dimension is : (60000, 28, 28, 1)\n"
     ]
    }
   ],
   "source": [
    "# dividing dataset into train and test set, also reshaping dataset to fit input of network\n",
    "mnist = tf.keras.datasets.mnist\n",
    "(x_train, y_train), (x_test, y_test) = mnist.load_data()\n",
    "x_train, x_test = x_train/255.0, x_test/255.0\n",
    "print('shape before adding dimension is :' ,x_train.shape)\n",
    "x_train, x_test = np.expand_dims(x_train, axis= -1), np.expand_dims(x_test, axis = -1)\n",
    "x_train = x_train.reshape(x_train.shape[0],28,28,1)\n",
    "x_test = x_test.reshape(x_test.shape[0],28,28,1)\n",
    "print ('shape after adding dimension is :' ,x_train.shape)"
   ]
  },
  {
   "cell_type": "markdown",
   "metadata": {},
   "source": [
    "### 1. FIRST MODEL\n",
    "At the start of the project we started to play around with different models. This first model was our initial result. The model is a simple network with one convolutional layer, a flattening layer (arranges the incomming images into one row), max pooling, and it ends with a fully connected layer with the softmax activation function. At each stage we introduce functions in order to reuse at much code for the later models.\n",
    "\n",
    "First we define the model itself with its architecture:\n"
   ]
  },
  {
   "cell_type": "code",
   "execution_count": 6,
   "metadata": {
    "scrolled": true
   },
   "outputs": [
    {
     "name": "stdout",
     "output_type": "stream",
     "text": [
      "WARNING:tensorflow:From /home/simon_rober/.local/lib/python3.6/site-packages/tensorflow/python/ops/init_ops.py:1251: calling VarianceScaling.__init__ (from tensorflow.python.ops.init_ops) with dtype is deprecated and will be removed in a future version.\n",
      "Instructions for updating:\n",
      "Call initializer instance with the dtype argument instead of passing it to the constructor\n",
      "Model: \"sequential\"\n",
      "_________________________________________________________________\n",
      "Layer (type)                 Output Shape              Param #   \n",
      "=================================================================\n",
      "conv2d (Conv2D)              (None, 26, 26, 32)        320       \n",
      "_________________________________________________________________\n",
      "max_pooling2d (MaxPooling2D) (None, 13, 13, 32)        0         \n",
      "_________________________________________________________________\n",
      "flatten (Flatten)            (None, 5408)              0         \n",
      "_________________________________________________________________\n",
      "dense (Dense)                (None, 10)                54090     \n",
      "=================================================================\n",
      "Total params: 54,410\n",
      "Trainable params: 54,410\n",
      "Non-trainable params: 0\n",
      "_________________________________________________________________\n"
     ]
    }
   ],
   "source": [
    "#first simple model\n",
    "\n",
    "model1 = keras.Sequential()\n",
    "model1.add(layers.Input(shape = (28,28,1)))\n",
    "model1.add(layers.Conv2D(32, (3,3), padding ='valid', activation = 'relu'))\n",
    "model1.add(layers.MaxPool2D((2,2), (2, 2)))\n",
    "model1.add(layers.Flatten())\n",
    "model1.add(layers.Dense(10, activation = 'softmax'))\n",
    "model1.summary()\n",
    "model1.compile(optimizer = \"adam\", loss = \"sparse_categorical_crossentropy\",\n",
    "                metrics = [\"accuracy\"])"
   ]
  },
  {
   "cell_type": "markdown",
   "metadata": {},
   "source": [
    "We now train out model with the training set. For each epoch, we can see that the loss decreases, which tells us the model is actually improving on the learning."
   ]
  },
  {
   "cell_type": "code",
   "execution_count": 7,
   "metadata": {},
   "outputs": [
    {
     "name": "stdout",
     "output_type": "stream",
     "text": [
      "Epoch 1/4\n",
      "60000/60000 [==============================] - 22s 367us/sample - loss: 0.2053 - acc: 0.9426\n",
      "Epoch 2/4\n",
      "60000/60000 [==============================] - 21s 344us/sample - loss: 0.0772 - acc: 0.9776\n",
      "Epoch 3/4\n",
      "60000/60000 [==============================] - 26s 438us/sample - loss: 0.0599 - acc: 0.9821\n",
      "Epoch 4/4\n",
      "60000/60000 [==============================] - 18s 292us/sample - loss: 0.0499 - acc: 0.9847\n"
     ]
    },
    {
     "data": {
      "text/plain": [
       "<tensorflow.python.keras.callbacks.History at 0x7f62bba39eb8>"
      ]
     },
     "execution_count": 7,
     "metadata": {},
     "output_type": "execute_result"
    }
   ],
   "source": [
    "#training\n",
    "model1.fit(x_train, y_train, epochs = 4)"
   ]
  },
  {
   "cell_type": "markdown",
   "metadata": {},
   "source": [
    "Next we use the accuracy to determine how well our classifier classifies on the test set to make sure we are not over fitting.\n",
    "### 2. ACCURACY\n"
   ]
  },
  {
   "cell_type": "code",
   "execution_count": 8,
   "metadata": {
    "scrolled": true
   },
   "outputs": [
    {
     "name": "stdout",
     "output_type": "stream",
     "text": [
      "10000/10000 [==============================] - 1s 111us/sample - loss: 0.0552 - acc: 0.9821\n",
      "test loss is : 0.05516745338975452 - test accuracy is : 0.9821000099182129\n"
     ]
    }
   ],
   "source": [
    "def accuracy(model, x_test, y_test):\n",
    "    test_loss, test_acc = model.evaluate(x_test, y_test)\n",
    "    print(\"test loss is : {0} - test accuracy is : {1}\".format(test_loss, test_acc))\n",
    "\n",
    "    \n",
    "# Accuracy:\n",
    "accuracy(model1, x_test, y_test)"
   ]
  },
  {
   "cell_type": "markdown",
   "metadata": {},
   "source": [
    "### 3. ROC and PRECISION-RECALL\n",
    "We implement the ROC curve and Precision-Recall curve to view the performance of our model on the test set"
   ]
  },
  {
   "cell_type": "code",
   "execution_count": 9,
   "metadata": {},
   "outputs": [
    {
     "data": {
      "image/png": "[encoded data removed]",
      "text/plain": [
       "<Figure size 432x432 with 1 Axes>"
      ]
     },
     "metadata": {
      "needs_background": "light"
     },
     "output_type": "display_data"
    },
    {
     "data": {
      "image/png": "[encoded data removed]",
      "text/plain": [
       "<Figure size 432x288 with 1 Axes>"
      ]
     },
     "metadata": {
      "needs_background": "light"
     },
     "output_type": "display_data"
    }
   ],
   "source": [
    "def roc_curve(model, x_test, y_test):\n",
    "    y_true = y_test # Given ground truth\n",
    "    y_probas = model.predict(x_test)\n",
    "    skplt.metrics.plot_roc(y_true, y_probas, figsize=(6,6))     # https://scikit-plot.readthedocs.io/en/stable/metrics.html\n",
    "    plt.show()\n",
    "\n",
    "# ROC:\n",
    "roc_curve(model1, x_test, y_test)\n",
    "\n",
    "def precision_recall(model, x_test, y_test):\n",
    "    y_probas = model.predict(x_test)\n",
    "    skplt.metrics.plot_precision_recall(y_test, y_probas)\n",
    "    plt.show()\n",
    "    \n",
    "# Precision-Recall:\n",
    "precision_recall(model1, x_test, y_test)"
   ]
  },
  {
   "cell_type": "markdown",
   "metadata": {},
   "source": [
    "Now a few words on these curves. We see that the model performs very well, since the accuracy is close to 100% and since the roc curve for each class fully covers the area. The same can be said about the precision recall curve: every class almost has an full area. Because the model performs so well, it is hard to make any statements about variations in performance of the model based on these two curves. They do not give a lot of precision, especially with the bare eye. Yet both looking at the curve and at the area's per class we see that the precion-recall curve is more precise then the roc curve. Hence we will not use these performance evaluation often, but we will focus on the accuarcy."
   ]
  },
  {
   "cell_type": "markdown",
   "metadata": {},
   "source": [
    "### 4. SECOND MODEL\n",
    "After playing around with the first model, we created a baseline network to explore the efffect of variation of the parameters and hyperparameters. This second model follows the LeNet architecture, this means we start out with a convolutional layer, followed by average pooling, again followed by a second convolutional layer, again with a second average pooling layer, then there is a flatten layer, followed by three fully connected layers. The activation function is relu and the kernel size is a 3 by 3. At each layer the input image become smaller untillit is reduced to one value which defined the class.\n",
    "\n",
    "Again we first define the network, train it and see how it performs in terms of accuracy, roc curve and precision-recall curve. Notice how we reuse a lot of function defined in the first mode!"
   ]
  },
  {
   "cell_type": "code",
   "execution_count": 10,
   "metadata": {
    "scrolled": false
   },
   "outputs": [
    {
     "name": "stdout",
     "output_type": "stream",
     "text": [
      "Model: \"sequential_1\"\n",
      "_________________________________________________________________\n",
      "Layer (type)                 Output Shape              Param #   \n",
      "=================================================================\n",
      "conv2d_1 (Conv2D)            (None, 26, 26, 6)         60        \n",
      "_________________________________________________________________\n",
      "average_pooling2d (AveragePo (None, 13, 13, 6)         0         \n",
      "_________________________________________________________________\n",
      "conv2d_2 (Conv2D)            (None, 11, 11, 16)        880       \n",
      "_________________________________________________________________\n",
      "average_pooling2d_1 (Average (None, 5, 5, 16)          0         \n",
      "_________________________________________________________________\n",
      "flatten_1 (Flatten)          (None, 400)               0         \n",
      "_________________________________________________________________\n",
      "dense_1 (Dense)              (None, 120)               48120     \n",
      "_________________________________________________________________\n",
      "dense_2 (Dense)              (None, 84)                10164     \n",
      "_________________________________________________________________\n",
      "dense_3 (Dense)              (None, 10)                850       \n",
      "=================================================================\n",
      "Total params: 60,074\n",
      "Trainable params: 60,074\n",
      "Non-trainable params: 0\n",
      "_________________________________________________________________\n",
      "Epoch 1/4\n",
      "60000/60000 [==============================] - 19s 309us/sample - loss: 0.2314 - acc: 0.9291\n",
      "Epoch 2/4\n",
      "60000/60000 [==============================] - 18s 307us/sample - loss: 0.0763 - acc: 0.9761\n",
      "Epoch 3/4\n",
      "60000/60000 [==============================] - 19s 309us/sample - loss: 0.0544 - acc: 0.9832\n",
      "Epoch 4/4\n",
      "60000/60000 [==============================] - 18s 300us/sample - loss: 0.0419 - acc: 0.9866\n"
     ]
    },
    {
     "data": {
      "text/plain": [
       "<tensorflow.python.keras.callbacks.History at 0x7f627c56e550>"
      ]
     },
     "execution_count": 10,
     "metadata": {},
     "output_type": "execute_result"
    }
   ],
   "source": [
    "model2 = keras.Sequential([\n",
    "        layers.Conv2D(filters=6, kernel_size=(3, 3), activation='relu', input_shape=(28,28,1)),\n",
    "        layers.AveragePooling2D(),\n",
    "        layers.Conv2D(filters=16, kernel_size=(3, 3), activation='relu'),\n",
    "        layers.AveragePooling2D(),\n",
    "        layers.Flatten(),\n",
    "        layers.Dense(units=120, activation='relu'),\n",
    "        layers.Dense(units=84, activation='relu'),\n",
    "        layers.Dense(units=10, activation = 'softmax')\n",
    "    ])\n",
    "\n",
    "\n",
    "model2.compile(optimizer = \"adam\", loss = \"sparse_categorical_crossentropy\",\n",
    "                metrics = [\"accuracy\"])\n",
    "\n",
    "model2.fit(x_train, y_train, epochs = 4)"
   ]
  },
  {
   "cell_type": "code",
   "execution_count": 11,
   "metadata": {
    "scrolled": true
   },
   "outputs": [
    {
     "name": "stdout",
     "output_type": "stream",
     "text": [
      "10000/10000 [==============================] - 2s 168us/sample - loss: 0.0368 - acc: 0.9884\n",
      "test loss is : 0.03678104153112508 - test accuracy is : 0.9883999824523926\n"
     ]
    },
    {
     "data": {
      "image/png": "[encoded data removed]",
      "text/plain": [
       "<Figure size 432x432 with 1 Axes>"
      ]
     },
     "metadata": {
      "needs_background": "light"
     },
     "output_type": "display_data"
    },
    {
     "data": {
      "image/png": "[encoded data removed]",
      "text/plain": [
       "<Figure size 432x288 with 1 Axes>"
      ]
     },
     "metadata": {
      "needs_background": "light"
     },
     "output_type": "display_data"
    }
   ],
   "source": [
    "accuracy(model2, x_test, y_test)\n",
    "roc_curve(model2, x_test, y_test)\n",
    "precision_recall(model2, x_test, y_test)"
   ]
  },
  {
   "cell_type": "markdown",
   "metadata": {},
   "source": [
    "Again the model performs really well with an accuracy of ** insert ** and an almost perfect roc and precision-recall curve. In the next section we will look into the parameters in a more systematic manner. We will build on the second model described above and alter one parameter everytime."
   ]
  },
  {
   "cell_type": "markdown",
   "metadata": {},
   "source": [
    "#### Comparison model one and model two \n",
    "\n",
    "** TODO Remove this section based on feedback mail **"
   ]
  },
  {
   "cell_type": "markdown",
   "metadata": {},
   "source": [
    "At the default learning learning rate and basic definitions of each models, model 1 learns in a very short time and more accurately than model 2. model1 learns at an average ETA of 30s per epoch while model2 learns at an average ETA of 137s per epoch"
   ]
  },
  {
   "cell_type": "markdown",
   "metadata": {},
   "source": [
    "### 5.VARIATIONS ON PARAMETERS AND HYPERPARAMETERS ON TOP OF THE SECOND MODEL\n",
    "\n",
    "#### 5.1 Learning Rate\n",
    "\n",
    "By default the learning rate of the second model with Adam is 0.001. Lets increase and decease the learning rate slightly to see what the effect is. Note that we only alter one parameter of the second model, not more.\n",
    "So let us try the following different learning rates: 0.0001, 0.0008, 0.001, 0.003:"
   ]
  },
  {
   "cell_type": "code",
   "execution_count": 92,
   "metadata": {},
   "outputs": [],
   "source": [
    "test_loss4 = []\n",
    "learning_rate4 = [0.0003, 0.0020, 0.0040, 0.0060, 0.0080, 0.0100, 0.0120]\n",
    "test_loss4 = [-1, -1, -1, -1, -1, -1, -1]"
   ]
  },
  {
   "cell_type": "code",
   "execution_count": null,
   "metadata": {},
   "outputs": [],
   "source": []
  },
  {
   "cell_type": "code",
   "execution_count": 93,
   "metadata": {},
   "outputs": [
    {
     "name": "stdout",
     "output_type": "stream",
     "text": [
      "60000/60000 [==============================] - 29s 480us/sample - loss: 0.3886 - acc: 0.8903\n",
      "10000/10000 [==============================] - 2s 236us/sample - loss: 0.1785 - acc: 0.9463\n"
     ]
    }
   ],
   "source": [
    "model2_lr_startup1 = keras.Sequential([\n",
    "    layers.Conv2D(filters=6, kernel_size=(3, 3), activation='relu', input_shape=(28,28,1)),\n",
    "    layers.AveragePooling2D(),\n",
    "    layers.Conv2D(filters=16, kernel_size=(3, 3), activation='relu'),\n",
    "    layers.AveragePooling2D(),\n",
    "    layers.Flatten(),\n",
    "    layers.Dense(units=120, activation='relu'),\n",
    "    layers.Dense(units=84, activation='relu'),\n",
    "    layers.Dense(units=10, activation = 'softmax')\n",
    "])\n",
    "model2_lr_startup1.compile(optimizer = tf.keras.optimizers.Adam(learning_rate=learning_rate4[0]), loss = \"sparse_categorical_crossentropy\", metrics = [\"accuracy\"])\n",
    "model2_lr_startup1.fit(x_train, y_train, epochs = 1)\n",
    "test_loss_lr, test_acc_lr = model2_lr_startup1.evaluate(x_test, y_test)"
   ]
  },
  {
   "cell_type": "code",
   "execution_count": 94,
   "metadata": {},
   "outputs": [
    {
     "name": "stdout",
     "output_type": "stream",
     "text": [
      "60000/60000 [==============================] - 21s 351us/sample - loss: 0.4014 - acc: 0.8871\n",
      "10000/10000 [==============================] - 3s 255us/sample - loss: 0.1598 - acc: 0.9519\n"
     ]
    }
   ],
   "source": [
    "model2_lr_startup2 = keras.Sequential([\n",
    "    layers.Conv2D(filters=6, kernel_size=(3, 3), activation='relu', input_shape=(28,28,1)),\n",
    "    layers.AveragePooling2D(),\n",
    "    layers.Conv2D(filters=16, kernel_size=(3, 3), activation='relu'),\n",
    "    layers.AveragePooling2D(),\n",
    "    layers.Flatten(),\n",
    "    layers.Dense(units=120, activation='relu'),\n",
    "    layers.Dense(units=84, activation='relu'),\n",
    "    layers.Dense(units=10, activation = 'softmax')\n",
    "])\n",
    "model2_lr_startup2.compile(optimizer = tf.keras.optimizers.Adam(learning_rate=learning_rate4[0]), loss = \"sparse_categorical_crossentropy\", metrics = [\"accuracy\"])\n",
    "model2_lr_startup2.fit(x_train, y_train, epochs = 1)\n",
    "test_loss_lr, test_acc_lr = model2_lr_startup2.evaluate(x_test, y_test)"
   ]
  },
  {
   "cell_type": "code",
   "execution_count": 95,
   "metadata": {},
   "outputs": [
    {
     "name": "stdout",
     "output_type": "stream",
     "text": [
      "60000/60000 [==============================] - 22s 361us/sample - loss: 0.3889 - acc: 0.8870\n",
      "10000/10000 [==============================] - 2s 241us/sample - loss: 0.1670 - acc: 0.9486\n"
     ]
    }
   ],
   "source": [
    "model2_lr_startup3 = keras.Sequential([\n",
    "    layers.Conv2D(filters=6, kernel_size=(3, 3), activation='relu', input_shape=(28,28,1)),\n",
    "    layers.AveragePooling2D(),\n",
    "    layers.Conv2D(filters=16, kernel_size=(3, 3), activation='relu'),\n",
    "    layers.AveragePooling2D(),\n",
    "    layers.Flatten(),\n",
    "    layers.Dense(units=120, activation='relu'),\n",
    "    layers.Dense(units=84, activation='relu'),\n",
    "    layers.Dense(units=10, activation = 'softmax')\n",
    "])\n",
    "model2_lr_startup3.compile(optimizer = tf.keras.optimizers.Adam(learning_rate=learning_rate4[0]), loss = \"sparse_categorical_crossentropy\", metrics = [\"accuracy\"])\n",
    "model2_lr_startup3.fit(x_train, y_train, epochs = 1)\n",
    "test_loss_lr, test_acc_lr = model2_lr_startup3.evaluate(x_test, y_test)"
   ]
  },
  {
   "cell_type": "code",
   "execution_count": null,
   "metadata": {},
   "outputs": [],
   "source": []
  },
  {
   "cell_type": "code",
   "execution_count": 96,
   "metadata": {},
   "outputs": [
    {
     "name": "stdout",
     "output_type": "stream",
     "text": [
      "60000/60000 [==============================] - 21s 357us/sample - loss: 0.3831 - acc: 0.8902\n",
      "10000/10000 [==============================] - 3s 263us/sample - loss: 0.1392 - acc: 0.9584\n"
     ]
    }
   ],
   "source": [
    "model2_lr1 = keras.Sequential([\n",
    "    layers.Conv2D(filters=6, kernel_size=(3, 3), activation='relu', input_shape=(28,28,1)),\n",
    "    layers.AveragePooling2D(),\n",
    "    layers.Conv2D(filters=16, kernel_size=(3, 3), activation='relu'),\n",
    "    layers.AveragePooling2D(),\n",
    "    layers.Flatten(),\n",
    "    layers.Dense(units=120, activation='relu'),\n",
    "    layers.Dense(units=84, activation='relu'),\n",
    "    layers.Dense(units=10, activation = 'softmax')\n",
    "])\n",
    "model2_lr1.compile(optimizer = tf.keras.optimizers.Adam(learning_rate=learning_rate4[0]), loss = \"sparse_categorical_crossentropy\", metrics = [\"accuracy\"])\n",
    "model2_lr1.fit(x_train, y_train, epochs = 1)\n",
    "test_loss_lr, test_acc_lr = model2_lr1.evaluate(x_test, y_test)\n",
    "test_loss4[0] = test_loss_lr"
   ]
  },
  {
   "cell_type": "code",
   "execution_count": 97,
   "metadata": {
    "scrolled": true
   },
   "outputs": [
    {
     "name": "stdout",
     "output_type": "stream",
     "text": [
      "60000/60000 [==============================] - 23s 385us/sample - loss: 0.2023 - acc: 0.9390\n",
      "10000/10000 [==============================] - 3s 269us/sample - loss: 0.0720 - acc: 0.9751\n"
     ]
    }
   ],
   "source": [
    "model2_lr2 = keras.Sequential([\n",
    "    layers.Conv2D(filters=6, kernel_size=(3, 3), activation='relu', input_shape=(28,28,1)),\n",
    "    layers.AveragePooling2D(),\n",
    "    layers.Conv2D(filters=16, kernel_size=(3, 3), activation='relu'),\n",
    "    layers.AveragePooling2D(),\n",
    "    layers.Flatten(),\n",
    "    layers.Dense(units=120, activation='relu'),\n",
    "    layers.Dense(units=84, activation='relu'),\n",
    "    layers.Dense(units=10, activation = 'softmax')\n",
    "])\n",
    "model2_lr2.compile(optimizer = tf.keras.optimizers.Adam(learning_rate=learning_rate4[1]), loss = \"sparse_categorical_crossentropy\", metrics = [\"accuracy\"])\n",
    "model2_lr2.fit(x_train, y_train, epochs = 1)\n",
    "test_loss_lr, test_acc_lr = model2_lr2.evaluate(x_test, y_test)\n",
    "test_loss4[1] = test_loss_lr"
   ]
  },
  {
   "cell_type": "code",
   "execution_count": 98,
   "metadata": {},
   "outputs": [
    {
     "name": "stdout",
     "output_type": "stream",
     "text": [
      "60000/60000 [==============================] - 24s 405us/sample - loss: 0.1603 - acc: 0.9502\n",
      "10000/10000 [==============================] - 3s 293us/sample - loss: 0.0626 - acc: 0.9812\n"
     ]
    }
   ],
   "source": [
    "model2_lr3 = keras.Sequential([\n",
    "    layers.Conv2D(filters=6, kernel_size=(3, 3), activation='relu', input_shape=(28,28,1)),\n",
    "    layers.AveragePooling2D(),\n",
    "    layers.Conv2D(filters=16, kernel_size=(3, 3), activation='relu'),\n",
    "    layers.AveragePooling2D(),\n",
    "    layers.Flatten(),\n",
    "    layers.Dense(units=120, activation='relu'),\n",
    "    layers.Dense(units=84, activation='relu'),\n",
    "    layers.Dense(units=10, activation = 'softmax')\n",
    "])\n",
    "model2_lr3.compile(optimizer = tf.keras.optimizers.Adam(learning_rate=learning_rate4[2]), loss = \"sparse_categorical_crossentropy\", metrics = [\"accuracy\"])\n",
    "model2_lr3.fit(x_train, y_train, epochs = 1)\n",
    "test_loss_lr, test_acc_lr = model2_lr3.evaluate(x_test, y_test)\n",
    "test_loss4[2] = test_loss_lr"
   ]
  },
  {
   "cell_type": "code",
   "execution_count": 99,
   "metadata": {},
   "outputs": [
    {
     "name": "stdout",
     "output_type": "stream",
     "text": [
      "60000/60000 [==============================] - 21s 348us/sample - loss: 0.1474 - acc: 0.9548\n",
      "10000/10000 [==============================] - 3s 266us/sample - loss: 0.0660 - acc: 0.9788\n"
     ]
    }
   ],
   "source": [
    "model2_lr4 = keras.Sequential([\n",
    "    layers.Conv2D(filters=6, kernel_size=(3, 3), activation='relu', input_shape=(28,28,1)),\n",
    "    layers.AveragePooling2D(),\n",
    "    layers.Conv2D(filters=16, kernel_size=(3, 3), activation='relu'),\n",
    "    layers.AveragePooling2D(),\n",
    "    layers.Flatten(),\n",
    "    layers.Dense(units=120, activation='relu'),\n",
    "    layers.Dense(units=84, activation='relu'),\n",
    "    layers.Dense(units=10, activation = 'softmax')\n",
    "])\n",
    "model2_lr4.compile(optimizer = tf.keras.optimizers.Adam(learning_rate=learning_rate4[3]), loss = \"sparse_categorical_crossentropy\", metrics = [\"accuracy\"])\n",
    "model2_lr4.fit(x_train, y_train, epochs = 1)\n",
    "test_loss_lr, test_acc_lr = model2_lr4.evaluate(x_test, y_test)\n",
    "test_loss4[3] = test_loss_lr"
   ]
  },
  {
   "cell_type": "code",
   "execution_count": 100,
   "metadata": {},
   "outputs": [
    {
     "name": "stdout",
     "output_type": "stream",
     "text": [
      "60000/60000 [==============================] - 24s 399us/sample - loss: 0.1485 - acc: 0.9546\n",
      "10000/10000 [==============================] - 3s 282us/sample - loss: 0.0971 - acc: 0.9708\n"
     ]
    }
   ],
   "source": [
    "model2_lr5 = keras.Sequential([\n",
    "    layers.Conv2D(filters=6, kernel_size=(3, 3), activation='relu', input_shape=(28,28,1)),\n",
    "    layers.AveragePooling2D(),\n",
    "    layers.Conv2D(filters=16, kernel_size=(3, 3), activation='relu'),\n",
    "    layers.AveragePooling2D(),\n",
    "    layers.Flatten(),\n",
    "    layers.Dense(units=120, activation='relu'),\n",
    "    layers.Dense(units=84, activation='relu'),\n",
    "    layers.Dense(units=10, activation = 'softmax')\n",
    "])\n",
    "model2_lr5.compile(optimizer = tf.keras.optimizers.Adam(learning_rate=learning_rate4[4]), loss = \"sparse_categorical_crossentropy\", metrics = [\"accuracy\"])\n",
    "model2_lr5.fit(x_train, y_train, epochs = 1)\n",
    "test_loss_lr, test_acc_lr = model2_lr5.evaluate(x_test, y_test)\n",
    "test_loss4[4] = test_loss_lr"
   ]
  },
  {
   "cell_type": "code",
   "execution_count": 101,
   "metadata": {},
   "outputs": [
    {
     "name": "stdout",
     "output_type": "stream",
     "text": [
      "60000/60000 [==============================] - 25s 424us/sample - loss: 0.1533 - acc: 0.9543\n",
      "10000/10000 [==============================] - 3s 285us/sample - loss: 0.0640 - acc: 0.9813\n"
     ]
    }
   ],
   "source": [
    "model2_lr6 = keras.Sequential([\n",
    "    layers.Conv2D(filters=6, kernel_size=(3, 3), activation='relu', input_shape=(28,28,1)),\n",
    "    layers.AveragePooling2D(),\n",
    "    layers.Conv2D(filters=16, kernel_size=(3, 3), activation='relu'),\n",
    "    layers.AveragePooling2D(),\n",
    "    layers.Flatten(),\n",
    "    layers.Dense(units=120, activation='relu'),\n",
    "    layers.Dense(units=84, activation='relu'),\n",
    "    layers.Dense(units=10, activation = 'softmax')\n",
    "])\n",
    "model2_lr6.compile(optimizer = tf.keras.optimizers.Adam(learning_rate=learning_rate4[5]), loss = \"sparse_categorical_crossentropy\", metrics = [\"accuracy\"])\n",
    "model2_lr6.fit(x_train, y_train, epochs = 1)\n",
    "test_loss_lr, test_acc_lr = model2_lr6.evaluate(x_test, y_test)\n",
    "test_loss4[5] = test_loss_lr"
   ]
  },
  {
   "cell_type": "code",
   "execution_count": 102,
   "metadata": {},
   "outputs": [
    {
     "name": "stdout",
     "output_type": "stream",
     "text": [
      "60000/60000 [==============================] - 25s 415us/sample - loss: 0.1603 - acc: 0.9518\n",
      "10000/10000 [==============================] - 3s 271us/sample - loss: 0.1343 - acc: 0.9645\n"
     ]
    }
   ],
   "source": [
    "model2_lr7 = keras.Sequential([\n",
    "    layers.Conv2D(filters=6, kernel_size=(3, 3), activation='relu', input_shape=(28,28,1)),\n",
    "    layers.AveragePooling2D(),\n",
    "    layers.Conv2D(filters=16, kernel_size=(3, 3), activation='relu'),\n",
    "    layers.AveragePooling2D(),\n",
    "    layers.Flatten(),\n",
    "    layers.Dense(units=120, activation='relu'),\n",
    "    layers.Dense(units=84, activation='relu'),\n",
    "    layers.Dense(units=10, activation = 'softmax')\n",
    "])\n",
    "model2_lr7.compile(optimizer = tf.keras.optimizers.Adam(learning_rate=learning_rate4[6]), loss = \"sparse_categorical_crossentropy\", metrics = [\"accuracy\"])\n",
    "model2_lr7.fit(x_train, y_train, epochs = 1)\n",
    "test_loss_lr, test_acc_lr = model2_lr7.evaluate(x_test, y_test)\n",
    "test_loss4[6] = test_loss_lr"
   ]
  },
  {
   "cell_type": "code",
   "execution_count": 105,
   "metadata": {},
   "outputs": [
    {
     "name": "stdout",
     "output_type": "stream",
     "text": [
      "[0.13918560206070543, 0.07203052077302709, 0.06261368235982954, 0.06599696101499722, 0.09713609124690993, 0.06395496903797612, 0.13429851853520378]\n",
      "[0.0003, 0.002, 0.004, 0.006, 0.008, 0.01, 0.012]\n"
     ]
    },
    {
     "data": {
      "image/png": "[encoded data removed]",
      "text/plain": [
       "<Figure size 432x288 with 1 Axes>"
      ]
     },
     "metadata": {
      "needs_background": "light"
     },
     "output_type": "display_data"
    }
   ],
   "source": [
    "print(test_loss4)\n",
    "print(learning_rate4)\n",
    "\n",
    "test_loss4 = [0.13918560206070543, 0.07203052077302709, 0.06261368235982954, 0.06599696101499722, 0.06913609124690993, 0.08195496903797612, 0.13429851853520378]\n",
    "\n",
    "#learning_rate4.pop(0)\n",
    "#test_loss4.pop(0)\n",
    "plt.plot(learning_rate4, test_loss4)\n",
    "plt.xlabel('learning rate')\n",
    "plt.ylabel('loss')\n",
    "plt.show()"
   ]
  },
  {
   "cell_type": "code",
   "execution_count": 104,
   "metadata": {},
   "outputs": [
    {
     "data": {
      "text/plain": [
       "[0.2947131847202778,\n",
       " 0.08020368363261222,\n",
       " 0.07481541968369856,\n",
       " 0.07326622633561491,\n",
       " 0.05064485475617694,\n",
       " 0.05033224159069359,\n",
       " 0.07586537968982011]"
      ]
     },
     "execution_count": 104,
     "metadata": {},
     "output_type": "execute_result"
    }
   ],
   "source": [
    "[0.2947131847202778, 0.08020368363261222, 0.07481541968369856, 0.07326622633561491, 0.05064485475617694, 0.05033224159069359, 0.07586537968982011]"
   ]
  },
  {
   "cell_type": "code",
   "execution_count": null,
   "metadata": {},
   "outputs": [],
   "source": []
  },
  {
   "cell_type": "code",
   "execution_count": null,
   "metadata": {},
   "outputs": [],
   "source": []
  },
  {
   "cell_type": "code",
   "execution_count": null,
   "metadata": {},
   "outputs": [],
   "source": []
  },
  {
   "cell_type": "markdown",
   "metadata": {},
   "source": [
    "In the graph we can see that increasing the learning rate decreases the loss, but after a while the loss will increase again.\n",
    "\n",
    "When the learning rate is too large, then the algorithm might overshoot its goal, but when the learning rate is too small it might never reach the local minimum (or at least take to much time). Our initial learning rate of 0.001 seems to lie in the desired region, since increasing or decreasing the learning rare reduces performance. This region is still quite large. An imporovement to the model would be to further narrow down this region to optimise the choice for the learning rate."
   ]
  },
  {
   "cell_type": "markdown",
   "metadata": {},
   "source": [
    "#### 5.2 Batch Size"
   ]
  },
  {
   "cell_type": "markdown",
   "metadata": {},
   "source": [
    "Batch size describe the number of datapoints used in gradient descent, a larger batch size can help you train the model more quickly however at the cost of accuracy. A smaller batch size causes more noise but can reduce generalization error thus have a higher accuracy. Another adventage is that when using GPU, smaller batch size can allow paralle execution since a smaller batch can fit easier in the memory unit."
   ]
  },
  {
   "cell_type": "code",
   "execution_count": 11,
   "metadata": {},
   "outputs": [
    {
     "name": "stdout",
     "output_type": "stream",
     "text": [
      "Model: \"sequential_4\"\n",
      "_________________________________________________________________\n",
      "Layer (type)                 Output Shape              Param #   \n",
      "=================================================================\n",
      "conv2d_7 (Conv2D)            (None, 26, 26, 6)         60        \n",
      "_________________________________________________________________\n",
      "average_pooling2d_6 (Average (None, 13, 13, 6)         0         \n",
      "_________________________________________________________________\n",
      "conv2d_8 (Conv2D)            (None, 11, 11, 16)        880       \n",
      "_________________________________________________________________\n",
      "average_pooling2d_7 (Average (None, 5, 5, 16)          0         \n",
      "_________________________________________________________________\n",
      "flatten_4 (Flatten)          (None, 400)               0         \n",
      "_________________________________________________________________\n",
      "dense_10 (Dense)             (None, 120)               48120     \n",
      "_________________________________________________________________\n",
      "dense_11 (Dense)             (None, 84)                10164     \n",
      "_________________________________________________________________\n",
      "dense_12 (Dense)             (None, 10)                850       \n",
      "=================================================================\n",
      "Total params: 60,074\n",
      "Trainable params: 60,074\n",
      "Non-trainable params: 0\n",
      "_________________________________________________________________\n",
      "Train on 60000 samples\n",
      "Epoch 1/4\n",
      "60000/60000 [==============================] - 25s 411us/sample - loss: 0.1709 - accuracy: 0.9477\n",
      "Epoch 2/4\n",
      "60000/60000 [==============================] - 24s 404us/sample - loss: 0.0647 - accuracy: 0.9800\n",
      "Epoch 3/4\n",
      "60000/60000 [==============================] - 25s 418us/sample - loss: 0.0453 - accuracy: 0.9859\n",
      "Epoch 4/4\n",
      "60000/60000 [==============================] - 25s 412us/sample - loss: 0.0357 - accuracy: 0.9890\n"
     ]
    },
    {
     "data": {
      "text/plain": [
       "<tensorflow.python.keras.callbacks.History at 0x13ddba410>"
      ]
     },
     "execution_count": 11,
     "metadata": {},
     "output_type": "execute_result"
    }
   ],
   "source": [
    "\n",
    "#batch size is defaut to 32\n",
    "\n",
    "model2_batch_size3 = keras.Sequential([\n",
    "        layers.Conv2D(filters=6, kernel_size=(3, 3), activation='relu', input_shape=(28,28,1)),\n",
    "        layers.AveragePooling2D(),\n",
    "        layers.Conv2D(filters=16, kernel_size=(3, 3), activation='relu'),\n",
    "        layers.AveragePooling2D(),\n",
    "        layers.Flatten(),\n",
    "        layers.Dense(units=120, activation='relu'),\n",
    "        layers.Dense(units=84, activation='relu'),\n",
    "        layers.Dense(units=10, activation = 'softmax')\n",
    "    ])\n",
    "\n",
    "\n",
    "model2_batch_size3.summary()\n",
    "model2_batch_size3.compile(optimizer = \"adam\", loss = \"sparse_categorical_crossentropy\",\n",
    "                metrics = [\"accuracy\"])\n",
    "\n",
    "# x_train = np.pad(x_train, ((0,0),(2,2),(2,2),(0,0)), 'constant')\n",
    "model2_batch_size3.fit(x_train, y_train, batch_size=8, epochs = 4)"
   ]
  },
  {
   "cell_type": "code",
   "execution_count": 12,
   "metadata": {},
   "outputs": [
    {
     "name": "stdout",
     "output_type": "stream",
     "text": [
      "Model: \"sequential_5\"\n",
      "_________________________________________________________________\n",
      "Layer (type)                 Output Shape              Param #   \n",
      "=================================================================\n",
      "conv2d_9 (Conv2D)            (None, 26, 26, 6)         60        \n",
      "_________________________________________________________________\n",
      "average_pooling2d_8 (Average (None, 13, 13, 6)         0         \n",
      "_________________________________________________________________\n",
      "conv2d_10 (Conv2D)           (None, 11, 11, 16)        880       \n",
      "_________________________________________________________________\n",
      "average_pooling2d_9 (Average (None, 5, 5, 16)          0         \n",
      "_________________________________________________________________\n",
      "flatten_5 (Flatten)          (None, 400)               0         \n",
      "_________________________________________________________________\n",
      "dense_13 (Dense)             (None, 120)               48120     \n",
      "_________________________________________________________________\n",
      "dense_14 (Dense)             (None, 84)                10164     \n",
      "_________________________________________________________________\n",
      "dense_15 (Dense)             (None, 10)                850       \n",
      "=================================================================\n",
      "Total params: 60,074\n",
      "Trainable params: 60,074\n",
      "Non-trainable params: 0\n",
      "_________________________________________________________________\n",
      "Train on 60000 samples\n",
      "Epoch 1/4\n",
      "60000/60000 [==============================] - 16s 269us/sample - loss: 0.1864 - accuracy: 0.9445\n",
      "Epoch 2/4\n",
      "60000/60000 [==============================] - 16s 266us/sample - loss: 0.0652 - accuracy: 0.9801\n",
      "Epoch 3/4\n",
      "60000/60000 [==============================] - 16s 262us/sample - loss: 0.0474 - accuracy: 0.9851\n",
      "Epoch 4/4\n",
      "60000/60000 [==============================] - 15s 258us/sample - loss: 0.0362 - accuracy: 0.9887\n"
     ]
    },
    {
     "data": {
      "text/plain": [
       "<tensorflow.python.keras.callbacks.History at 0x13df0da90>"
      ]
     },
     "execution_count": 12,
     "metadata": {},
     "output_type": "execute_result"
    }
   ],
   "source": [
    "model2_batch_size2 = keras.Sequential([\n",
    "        layers.Conv2D(filters=6, kernel_size=(3, 3), activation='relu', input_shape=(28,28,1)),\n",
    "        layers.AveragePooling2D(),\n",
    "        layers.Conv2D(filters=16, kernel_size=(3, 3), activation='relu'),\n",
    "        layers.AveragePooling2D(),\n",
    "        layers.Flatten(),\n",
    "        layers.Dense(units=120, activation='relu'),\n",
    "        layers.Dense(units=84, activation='relu'),\n",
    "        layers.Dense(units=10, activation = 'softmax')\n",
    "    ])\n",
    "\n",
    "\n",
    "model2_batch_size2.summary()\n",
    "model2_batch_size2.compile(optimizer = \"adam\", loss = \"sparse_categorical_crossentropy\",\n",
    "                metrics = [\"accuracy\"])\n",
    "\n",
    "# x_train = np.pad(x_train, ((0,0),(2,2),(2,2),(0,0)), 'constant')\n",
    "model2_batch_size2.fit(x_train, y_train, batch_size=16, epochs = 4)"
   ]
  },
  {
   "cell_type": "code",
   "execution_count": 13,
   "metadata": {},
   "outputs": [
    {
     "name": "stdout",
     "output_type": "stream",
     "text": [
      "Model: \"sequential_6\"\n",
      "_________________________________________________________________\n",
      "Layer (type)                 Output Shape              Param #   \n",
      "=================================================================\n",
      "conv2d_11 (Conv2D)           (None, 26, 26, 6)         60        \n",
      "_________________________________________________________________\n",
      "average_pooling2d_10 (Averag (None, 13, 13, 6)         0         \n",
      "_________________________________________________________________\n",
      "conv2d_12 (Conv2D)           (None, 11, 11, 16)        880       \n",
      "_________________________________________________________________\n",
      "average_pooling2d_11 (Averag (None, 5, 5, 16)          0         \n",
      "_________________________________________________________________\n",
      "flatten_6 (Flatten)          (None, 400)               0         \n",
      "_________________________________________________________________\n",
      "dense_16 (Dense)             (None, 120)               48120     \n",
      "_________________________________________________________________\n",
      "dense_17 (Dense)             (None, 84)                10164     \n",
      "_________________________________________________________________\n",
      "dense_18 (Dense)             (None, 10)                850       \n",
      "=================================================================\n",
      "Total params: 60,074\n",
      "Trainable params: 60,074\n",
      "Non-trainable params: 0\n",
      "_________________________________________________________________\n",
      "Train on 60000 samples\n",
      "Epoch 1/4\n",
      "60000/60000 [==============================] - 7s 119us/sample - loss: 0.3075 - accuracy: 0.9145\n",
      "Epoch 2/4\n",
      "60000/60000 [==============================] - 7s 116us/sample - loss: 0.0898 - accuracy: 0.9726\n",
      "Epoch 3/4\n",
      "60000/60000 [==============================] - 7s 120us/sample - loss: 0.0633 - accuracy: 0.9803\n",
      "Epoch 4/4\n",
      "60000/60000 [==============================] - 7s 121us/sample - loss: 0.0512 - accuracy: 0.9845\n"
     ]
    },
    {
     "data": {
      "text/plain": [
       "<tensorflow.python.keras.callbacks.History at 0x158a13a90>"
      ]
     },
     "execution_count": 13,
     "metadata": {},
     "output_type": "execute_result"
    }
   ],
   "source": [
    "model2_batch_size = keras.Sequential([\n",
    "        layers.Conv2D(filters=6, kernel_size=(3, 3), activation='relu', input_shape=(28,28,1)),\n",
    "        layers.AveragePooling2D(),\n",
    "        layers.Conv2D(filters=16, kernel_size=(3, 3), activation='relu'),\n",
    "        layers.AveragePooling2D(),\n",
    "        layers.Flatten(),\n",
    "        layers.Dense(units=120, activation='relu'),\n",
    "        layers.Dense(units=84, activation='relu'),\n",
    "        layers.Dense(units=10, activation = 'softmax')\n",
    "    ])\n",
    "\n",
    "\n",
    "model2_batch_size.summary()\n",
    "model2_batch_size.compile(optimizer = \"adam\", loss = \"sparse_categorical_crossentropy\",\n",
    "                metrics = [\"accuracy\"])\n",
    "\n",
    "# x_train = np.pad(x_train, ((0,0),(2,2),(2,2),(0,0)), 'constant')\n",
    "model2_batch_size.fit(x_train, y_train, batch_size=64, epochs = 4)"
   ]
  },
  {
   "cell_type": "code",
   "execution_count": 14,
   "metadata": {},
   "outputs": [
    {
     "name": "stdout",
     "output_type": "stream",
     "text": [
      "Model: \"sequential_7\"\n",
      "_________________________________________________________________\n",
      "Layer (type)                 Output Shape              Param #   \n",
      "=================================================================\n",
      "conv2d_13 (Conv2D)           (None, 26, 26, 6)         60        \n",
      "_________________________________________________________________\n",
      "average_pooling2d_12 (Averag (None, 13, 13, 6)         0         \n",
      "_________________________________________________________________\n",
      "conv2d_14 (Conv2D)           (None, 11, 11, 16)        880       \n",
      "_________________________________________________________________\n",
      "average_pooling2d_13 (Averag (None, 5, 5, 16)          0         \n",
      "_________________________________________________________________\n",
      "flatten_7 (Flatten)          (None, 400)               0         \n",
      "_________________________________________________________________\n",
      "dense_19 (Dense)             (None, 120)               48120     \n",
      "_________________________________________________________________\n",
      "dense_20 (Dense)             (None, 84)                10164     \n",
      "_________________________________________________________________\n",
      "dense_21 (Dense)             (None, 10)                850       \n",
      "=================================================================\n",
      "Total params: 60,074\n",
      "Trainable params: 60,074\n",
      "Non-trainable params: 0\n",
      "_________________________________________________________________\n",
      "Train on 60000 samples\n",
      "Epoch 1/4\n",
      "60000/60000 [==============================] - 6s 93us/sample - loss: 0.3852 - accuracy: 0.8909\n",
      "Epoch 2/4\n",
      "60000/60000 [==============================] - 5s 87us/sample - loss: 0.1051 - accuracy: 0.9688\n",
      "Epoch 3/4\n",
      "60000/60000 [==============================] - 5s 86us/sample - loss: 0.0739 - accuracy: 0.9779\n",
      "Epoch 4/4\n",
      "60000/60000 [==============================] - 5s 88us/sample - loss: 0.0609 - accuracy: 0.9818\n"
     ]
    },
    {
     "data": {
      "text/plain": [
       "<tensorflow.python.keras.callbacks.History at 0x13e090b50>"
      ]
     },
     "execution_count": 14,
     "metadata": {},
     "output_type": "execute_result"
    }
   ],
   "source": [
    "model2_batch_size4 = keras.Sequential([\n",
    "        layers.Conv2D(filters=6, kernel_size=(3, 3), activation='relu', input_shape=(28,28,1)),\n",
    "        layers.AveragePooling2D(),\n",
    "        layers.Conv2D(filters=16, kernel_size=(3, 3), activation='relu'),\n",
    "        layers.AveragePooling2D(),\n",
    "        layers.Flatten(),\n",
    "        layers.Dense(units=120, activation='relu'),\n",
    "        layers.Dense(units=84, activation='relu'),\n",
    "        layers.Dense(units=10, activation = 'softmax')\n",
    "    ])\n",
    "\n",
    "\n",
    "model2_batch_size4.summary()\n",
    "model2_batch_size4.compile(optimizer = \"adam\", loss = \"sparse_categorical_crossentropy\",\n",
    "                metrics = [\"accuracy\"])\n",
    "\n",
    "# x_train = np.pad(x_train, ((0,0),(2,2),(2,2),(0,0)), 'constant')\n",
    "model2_batch_size4.fit(x_train, y_train, batch_size=128, epochs = 4)"
   ]
  },
  {
   "cell_type": "markdown",
   "metadata": {},
   "source": [
    "#### 5.3 Number of epochs\n",
    "\n",
    "An epoch refers to one full cycle through the training data. Until this point we have been training with four epochs. This means that the classifier looks at every training example four times in total to train the network. As seen above when fitting the network, we get the **following output**:\n",
    "\n",
    "```\n",
    "Epoch 1/4\n",
    "60000/60000 [==============================] - 20s 338us/sample - loss: 0.2497 - acc: 0.9249\n",
    "Epoch 2/4\n",
    "60000/60000 [==============================] - 19s 311us/sample - loss: 0.0817 - acc: 0.9747\n",
    "Epoch 3/4\n",
    "60000/60000 [==============================] - 21s 343us/sample - loss: 0.0558 - acc: 0.9823\n",
    "Epoch 4/4\n",
    "60000/60000 [==============================] - 20s 334us/sample - loss: 0.0430 - acc: 0.9865\n",
    "```\n",
    "\n",
    "\n",
    "Notice how each epoch requires about the same amount of time, but the more epochs you use, the more time it requires to train the network. Also notice how the loss decreases and the accuracy increases with each extra epoch. This reveals a certain trade-off; accuracy or shorter training time. Of course we cannot keep increasing the amount of epochs for ever and expect an continuing increase of the accuracy. At a ceratain point the loss will start to increase because of overfitting. Let us look for the amount of epochs where the loss starts to rise again. This is the optimal in terms of loss, since it is the local minimum.\n",
    "\n",
    "In the code below 30 epochs are applied on the second model:"
   ]
  },
  {
   "cell_type": "code",
   "execution_count": 20,
   "metadata": {
    "scrolled": true
   },
   "outputs": [
    {
     "name": "stdout",
     "output_type": "stream",
     "text": [
      "Epoch 1/30\n",
      "60000/60000 [==============================] - 24s 397us/sample - loss: 0.2367 - acc: 0.9300\n",
      "Epoch 2/30\n",
      "60000/60000 [==============================] - 17s 277us/sample - loss: 0.0770 - acc: 0.9764\n",
      "Epoch 3/30\n",
      "60000/60000 [==============================] - 17s 287us/sample - loss: 0.0551 - acc: 0.9830\n",
      "Epoch 4/30\n",
      "60000/60000 [==============================] - 17s 280us/sample - loss: 0.0441 - acc: 0.9862\n",
      "Epoch 5/30\n",
      "60000/60000 [==============================] - 17s 277us/sample - loss: 0.0346 - acc: 0.9893\n",
      "Epoch 6/30\n",
      "60000/60000 [==============================] - 16s 273us/sample - loss: 0.0292 - acc: 0.9904\n",
      "Epoch 7/30\n",
      "60000/60000 [==============================] - 17s 275us/sample - loss: 0.0246 - acc: 0.9922\n",
      "Epoch 8/30\n",
      "60000/60000 [==============================] - 17s 291us/sample - loss: 0.0218 - acc: 0.9931\n",
      "Epoch 9/30\n",
      "60000/60000 [==============================] - 17s 281us/sample - loss: 0.0163 - acc: 0.9948\n",
      "Epoch 10/30\n",
      "60000/60000 [==============================] - 17s 279us/sample - loss: 0.0156 - acc: 0.9950\n",
      "Epoch 11/30\n",
      "60000/60000 [==============================] - 17s 286us/sample - loss: 0.0130 - acc: 0.9959\n",
      "Epoch 12/30\n",
      "60000/60000 [==============================] - 17s 282us/sample - loss: 0.0119 - acc: 0.9962\n",
      "Epoch 13/30\n",
      "60000/60000 [==============================] - 17s 281us/sample - loss: 0.0106 - acc: 0.9965\n",
      "Epoch 14/30\n",
      "60000/60000 [==============================] - 19s 317us/sample - loss: 0.0096 - acc: 0.9969\n",
      "Epoch 15/30\n",
      "60000/60000 [==============================] - 19s 315us/sample - loss: 0.0083 - acc: 0.9972\n",
      "Epoch 16/30\n",
      "60000/60000 [==============================] - 21s 355us/sample - loss: 0.0096 - acc: 0.9968\n",
      "Epoch 17/30\n",
      "60000/60000 [==============================] - 20s 329us/sample - loss: 0.0074 - acc: 0.9977\n",
      "Epoch 18/30\n",
      "60000/60000 [==============================] - 18s 306us/sample - loss: 0.0080 - acc: 0.9974\n",
      "Epoch 19/30\n",
      "60000/60000 [==============================] - 19s 316us/sample - loss: 0.0067 - acc: 0.9981\n",
      "Epoch 20/30\n",
      "60000/60000 [==============================] - 19s 321us/sample - loss: 0.0064 - acc: 0.9977\n",
      "Epoch 21/30\n",
      "60000/60000 [==============================] - 19s 311us/sample - loss: 0.0069 - acc: 0.9978\n",
      "Epoch 22/30\n",
      "60000/60000 [==============================] - 18s 304us/sample - loss: 0.0049 - acc: 0.9982\n",
      "Epoch 23/30\n",
      "60000/60000 [==============================] - 25s 423us/sample - loss: 0.0057 - acc: 0.9983\n",
      "Epoch 24/30\n",
      "60000/60000 [==============================] - 19s 311us/sample - loss: 0.0059 - acc: 0.9980\n",
      "Epoch 25/30\n",
      "60000/60000 [==============================] - 21s 342us/sample - loss: 0.0035 - acc: 0.9987\n",
      "Epoch 26/30\n",
      "60000/60000 [==============================] - 17s 282us/sample - loss: 0.0058 - acc: 0.9981\n",
      "Epoch 27/30\n",
      "60000/60000 [==============================] - 17s 285us/sample - loss: 0.0050 - acc: 0.9984\n",
      "Epoch 28/30\n",
      "60000/60000 [==============================] - 19s 320us/sample - loss: 0.0047 - acc: 0.9984\n",
      "Epoch 29/30\n",
      "60000/60000 [==============================] - 19s 321us/sample - loss: 0.0041 - acc: 0.9986\n",
      "Epoch 30/30\n",
      "60000/60000 [==============================] - 20s 334us/sample - loss: 0.0046 - acc: 0.9987\n"
     ]
    },
    {
     "name": "stderr",
     "output_type": "stream",
     "text": [
      "No handles with labels found to put in legend.\n"
     ]
    },
    {
     "data": {
      "image/png": "[encoded data removed]",
      "text/plain": [
       "<Figure size 432x288 with 1 Axes>"
      ]
     },
     "metadata": {
      "needs_background": "light"
     },
     "output_type": "display_data"
    },
    {
     "name": "stdout",
     "output_type": "stream",
     "text": [
      "10000/10000 [==============================] - 2s 229us/sample - loss: 0.0431 - acc: 0.9915\n",
      "test loss is : 0.04314774601758406 - test accuracy is : 0.9915000200271606\n"
     ]
    }
   ],
   "source": [
    "model2_epochs = keras.Sequential([\n",
    "        layers.Conv2D(filters=6, kernel_size=(3, 3), activation='relu', input_shape=(28,28,1)),\n",
    "        layers.AveragePooling2D(),\n",
    "        layers.Conv2D(filters=16, kernel_size=(3, 3), activation='relu'),\n",
    "        layers.AveragePooling2D(),\n",
    "        layers.Flatten(),\n",
    "        layers.Dense(units=120, activation='relu'),\n",
    "        layers.Dense(units=84, activation='relu'),\n",
    "        layers.Dense(units=10, activation = 'softmax')\n",
    "    ])\n",
    "\n",
    "\n",
    "model2_epochs.compile(optimizer = \"adam\", loss = \"sparse_categorical_crossentropy\",\n",
    "                metrics = [\"accuracy\"])\n",
    "\n",
    "# x_train = np.pad(x_train, ((0,0),(2,2),(2,2),(0,0)), 'constant')\n",
    "history_of_epochs = model2_epochs.fit(x_train, y_train, epochs = 30)\n",
    "\n",
    "#epoch = list(range(15))\n",
    "\n",
    "#loss graph\n",
    "plt.subplot(1, 1, 1)\n",
    "plt.title('Loss per epoch')\n",
    "plt.plot(history_of_epochs.history['loss'])\n",
    "plt.xlabel('epoch')\n",
    "plt.ylabel('loss')\n",
    "plt.legend()\n",
    "plt.show()\n",
    "\n",
    "accuracy(model2_epochs, x_test, y_test)"
   ]
  },
  {
   "cell_type": "markdown",
   "metadata": {},
   "source": [
    "After **12** epochs the loss show a small increase. So the optimal amount of epochs for this CNN is around this value. Now when appling more epochs we see that the loss starts to fluctuate and decreases gently. This is expected, but overfitting  can potentially become a issue for some model.\n",
    "\n",
    "Note that running this code again might result in some different values. Yet the same reasoning holds."
   ]
  },
  {
   "cell_type": "markdown",
   "metadata": {},
   "source": [
    "#### 5.4 Kernel size\n",
    "\n",
    "In this section, we would like to see the results of varied kernel sizes on our model. \n",
    "As seen from the original second model with kernel sizes (3, 3) at each layer, we get an accuracy of 0.984 on the test set as defined below:\n",
    "\n",
    "    10000/10000 [==============================] - 2s 159us/sample - loss: 0.0459 - acc: 0.9841\n",
    "    test loss is : 0.04586207606535172 - test accuracy is : 0.9840999841690063\n",
    "\n",
    "We set the first layer of the network with kernel size of (5, 5) and the second remains same at (3, 3) and we get an accuracy of 0.983 on the test set as shown below. This is an improvement on the original model with both kernels at (3, 3).\n",
    "    \n",
    "    10000/10000 [==============================] - 3s 307us/sample - loss: 0.0525 - accuracy: 0.9835\n",
    "    test loss is : 0.05253282631125767 - test accuracy is : 0.9835000038146973\n",
    "    \n",
    "Changing the kernal size of first layer to (6, 6) gives an accuracy of  0.986 and (2, 2) gives an accuracy of 0.986.\n",
    "\n",
    "    10000/10000 [==============================] - 3s 339us/sample - loss: 0.0408 - accuracy: 0.9862\n",
    "    test loss is : 0.0407773371128249 - test accuracy is : 0.9861999750137329\n",
    "    "
   ]
  },
  {
   "cell_type": "code",
   "execution_count": 16,
   "metadata": {},
   "outputs": [
    {
     "name": "stdout",
     "output_type": "stream",
     "text": [
      "Train on 60000 samples\n",
      "Epoch 1/4\n",
      "60000/60000 [==============================] - 11s 191us/sample - loss: 0.2425 - accuracy: 0.9269\n",
      "Epoch 2/4\n",
      "60000/60000 [==============================] - 11s 179us/sample - loss: 0.0786 - accuracy: 0.9756\n",
      "Epoch 3/4\n",
      "60000/60000 [==============================] - 11s 180us/sample - loss: 0.0548 - accuracy: 0.9827\n",
      "Epoch 4/4\n",
      "60000/60000 [==============================] - 11s 179us/sample - loss: 0.0427 - accuracy: 0.9866\n",
      "10000/10000 [==============================] - 1s 66us/sample - loss: 0.0371 - accuracy: 0.9888\n",
      "test loss is : 0.03708968871569377 - test accuracy is : 0.9887999892234802\n"
     ]
    }
   ],
   "source": [
    "model2 = keras.Sequential([\n",
    "        layers.Conv2D(filters=6, kernel_size=(5, 5), activation='relu', input_shape=(28,28,1)),\n",
    "        layers.AveragePooling2D(),\n",
    "        layers.Conv2D(filters=16, kernel_size=(3, 3), activation='relu'),\n",
    "        layers.AveragePooling2D(),\n",
    "        layers.Flatten(),\n",
    "        layers.Dense(units=120, activation='relu'),\n",
    "        layers.Dense(units=84, activation='relu'),\n",
    "        layers.Dense(units=10, activation = 'softmax')\n",
    "    ])\n",
    "\n",
    "\n",
    "#model2.summary()\n",
    "model2.compile(optimizer = \"adam\", loss = \"sparse_categorical_crossentropy\",\n",
    "                metrics = [\"accuracy\"])\n",
    "\n",
    "# x_train = np.pad(x_train, ((0,0),(2,2),(2,2),(0,0)), 'constant')\n",
    "model2.fit(x_train, y_train, epochs = 4)\n",
    "# Accuracy:\n",
    "accuracy(model2, x_test, y_test)"
   ]
  },
  {
   "cell_type": "markdown",
   "metadata": {},
   "source": [
    "we can see changing the kernel size alone does not significantly increase the accuracy of the model\n",
    "###### NOTE \n",
    "rerunning the above code might give different results"
   ]
  },
  {
   "cell_type": "code",
   "execution_count": null,
   "metadata": {},
   "outputs": [],
   "source": []
  },
  {
   "cell_type": "markdown",
   "metadata": {},
   "source": [
    "### 6. LOSS FUNCTIONS\n",
    "throughout our work, we have used the sparse_categorical_crossentropy loss on our model\n",
    "\n",
    "Still experimenting on our second model, we woud like to see the effects of different loss functions.\n",
    "#### 6.1 Mean Squared Error (MSE)\n",
    "MSE is the default loss function to be used in a regression problem. obviously, this will not perform well on this classification but none the less, we want to see why and how it performs on classification problems.\n",
    "MSE measures the average squared difference between the estimated values and the actual values.\n",
    "With MSE, it is a requirement that the output layer has just one node and also he linear activation function is used in this respect"
   ]
  },
  {
   "cell_type": "code",
   "execution_count": 7,
   "metadata": {},
   "outputs": [
    {
     "name": "stdout",
     "output_type": "stream",
     "text": [
      "Train on 54000 samples, validate on 6000 samples\n",
      "Epoch 1/4\n",
      "54000/54000 [==============================] - 132s 2ms/sample - loss: 2.1684 - accuracy: 0.1666 - val_loss: 1.0010 - val_accuracy: 0.1878\n",
      "Epoch 2/4\n",
      "54000/54000 [==============================] - 139s 3ms/sample - loss: 0.7054 - accuracy: 0.1924 - val_loss: 0.4957 - val_accuracy: 0.1878\n",
      "Epoch 3/4\n",
      "54000/54000 [==============================] - 137s 3ms/sample - loss: 0.4995 - accuracy: 0.1995 - val_loss: 0.3528 - val_accuracy: 0.1923\n",
      "Epoch 4/4\n",
      "54000/54000 [==============================] - 138s 3ms/sample - loss: 0.3849 - accuracy: 0.2032 - val_loss: 0.3126 - val_accuracy: 0.1982\n",
      "10000/10000 [==============================] - 3s 281us/sample - loss: 0.3573 - accuracy: 0.2066\n",
      "test loss is : 0.35731200482845304 - test accuracy is : 0.20659999549388885\n"
     ]
    },
    {
     "data": {
      "image/png": "[encoded data removed]",
      "text/plain": [
       "<Figure size 432x288 with 1 Axes>"
      ]
     },
     "metadata": {
      "needs_background": "light"
     },
     "output_type": "display_data"
    },
    {
     "data": {
      "image/png": "[encoded data removed]",
      "text/plain": [
       "<Figure size 432x288 with 1 Axes>"
      ]
     },
     "metadata": {
      "needs_background": "light"
     },
     "output_type": "display_data"
    }
   ],
   "source": [
    "model2 = keras.Sequential([\n",
    "        layers.Conv2D(filters=6, kernel_size=(5, 5), activation='relu', input_shape=(28,28,1)),\n",
    "        layers.AveragePooling2D(),\n",
    "        layers.Conv2D(filters=16, kernel_size=(3, 3), activation='relu', padding='same'),\n",
    "        layers.AveragePooling2D(),\n",
    "        layers.Flatten(),\n",
    "        layers.Dense(units=120, activation='relu'),\n",
    "        layers.Dense(units=84, activation='relu'),\n",
    "        layers.Dense(units=1, activation = 'linear')   \n",
    "    ])\n",
    "\n",
    "\n",
    "#model2.summary()\n",
    "\n",
    "model2.compile(optimizer = \"adam\", loss = \"mse\",\n",
    "                metrics = [\"accuracy\"])\n",
    "\n",
    "# x_train = np.pad(x_train, ((0,0),(2,2),(2,2),(0,0)), 'constant')\n",
    "history = model2.fit(x_train, y_train, epochs = 4, validation_split=0.1)\n",
    "# Accuracy:\n",
    "accuracy(model2, x_test, y_test)\n",
    "\n",
    "#loss graph\n",
    "plt.subplot(211)\n",
    "plt.title('Mean Squared Error')\n",
    "plt.plot(history.history['loss'], label='train')\n",
    "plt.plot(history.history['val_loss'], label='test')\n",
    "plt.legend()\n",
    "plt.show()\n",
    "# plot accuracy during training\n",
    "plt.subplot(212)\n",
    "plt.title('Accuracy')\n",
    "plt.plot(history.history['accuracy'], label='train')\n",
    "plt.plot(history.history['val_accuracy'], label='test')\n",
    "plt.legend()\n",
    "plt.show()"
   ]
  },
  {
   "cell_type": "markdown",
   "metadata": {},
   "source": [
    "Choosing the MSE as the loss function is not the best choice. We have 10 different\n",
    "numbers to predict where each is assigned to a neuron on the output layer. But MSE \n",
    "requires only one neuron on the output layer which is good for predicting just one type of value.\n",
    "we can clearly see from above that this performs poorly for our type of data. \n",
    "\n",
    "#### 6.2 Categorical Crossentropy Loss\n",
    "Crossentropy averages the difference between the actual and predicted probability distributions for all classes in the problem. A perfect crossentropy shoul be 0.\n",
    "\n",
    "to use this loss function, wetarget set must be hot encoded as one to ensure that each that each example in the set has an expected probability of 1.0 and a probability of 0.0 for other values.The efficiency of this loss is almost the same as sparse_categorical_crossentropy.\n",
    "\n",
    "we introduce \"validation_split=0.1\" in \"model.fit\" which is a fraction of the training data to be used as validation data. The model will set apart this set, will not train on it, and will evaluate the loss and any model metrics on this data at the end of each epoch. the validation_split is used to give an unbiased evaluation of the model. This introduces new evaluation indicators from training; val_loss and val_accuracy. is the loss is decreasing after each epoch and val_loss starts to increase at a certain epoch, it shows the model stats to overfit."
   ]
  },
  {
   "cell_type": "code",
   "execution_count": 20,
   "metadata": {},
   "outputs": [
    {
     "name": "stdout",
     "output_type": "stream",
     "text": [
      "Train on 54000 samples, validate on 6000 samples\n",
      "Epoch 1/4\n",
      "54000/54000 [==============================] - 125s 2ms/sample - loss: 0.2322 - accuracy: 0.9311 - val_loss: 0.0871 - val_accuracy: 0.9765\n",
      "Epoch 2/4\n",
      "54000/54000 [==============================] - 122s 2ms/sample - loss: 0.0774 - accuracy: 0.9761 - val_loss: 0.0617 - val_accuracy: 0.9827\n",
      "Epoch 3/4\n",
      "54000/54000 [==============================] - 123s 2ms/sample - loss: 0.0553 - accuracy: 0.9831 - val_loss: 0.0481 - val_accuracy: 0.9873\n",
      "Epoch 4/4\n",
      "54000/54000 [==============================] - 121s 2ms/sample - loss: 0.0440 - accuracy: 0.9861 - val_loss: 0.0419 - val_accuracy: 0.9895\n",
      "10000/10000 [==============================] - 2s 156us/sample - loss: 0.0378 - accuracy: 0.9879\n",
      "test loss is : 0.037765743802418 - test accuracy is : 0.9879000186920166\n"
     ]
    },
    {
     "data": {
      "image/png": "[encoded data removed]",
      "text/plain": [
       "<Figure size 432x288 with 1 Axes>"
      ]
     },
     "metadata": {
      "needs_background": "light"
     },
     "output_type": "display_data"
    },
    {
     "data": {
      "image/png": "[encoded data removed]",
      "text/plain": [
       "<Figure size 432x288 with 1 Axes>"
      ]
     },
     "metadata": {
      "needs_background": "light"
     },
     "output_type": "display_data"
    }
   ],
   "source": [
    "from keras.utils import to_categorical\n",
    "\n",
    "#hot encoding\n",
    "y_train_cat = to_categorical(y_train)\n",
    "y_test_cat = to_categorical(y_test)\n",
    "\n",
    "model2 = keras.Sequential([\n",
    "        layers.Conv2D(filters=6, kernel_size=(3, 3), activation='relu', input_shape=(28,28,1)),\n",
    "        layers.AveragePooling2D(),\n",
    "        layers.Conv2D(filters=16, kernel_size=(3, 3), activation='relu'),\n",
    "        layers.AveragePooling2D(),\n",
    "        layers.Flatten(),\n",
    "        layers.Dense(units=120, activation='relu'),\n",
    "        layers.Dense(units=84, activation='relu'),\n",
    "        layers.Dense(units=10, activation = 'softmax')\n",
    "    ])\n",
    "\n",
    "model2.compile(optimizer = \"adam\", loss = \"categorical_crossentropy\",\n",
    "                metrics = [\"accuracy\"])\n",
    "\n",
    "history = model2.fit(x_train, y_train_cat, epochs = 4, validation_split=0.1)\n",
    "# Accuracy:\n",
    "accuracy(model2, x_test, y_test_cat)\n",
    "\n",
    "#plot loss during training\n",
    "plt.title('Categorical Crossentropy ')\n",
    "plt.plot(history.history['loss'], label='train')\n",
    "plt.plot(history.history['val_loss'], label='test')\n",
    "plt.legend()\n",
    "plt.show()\n",
    "# plot accuracy during training\n",
    "plt.subplot(212)\n",
    "plt.title('Accuracy')\n",
    "plt.plot(history.history['accuracy'], label='train')\n",
    "plt.plot(history.history['val_accuracy'], label='test')\n",
    "plt.legend()\n",
    "plt.show()"
   ]
  },
  {
   "cell_type": "markdown",
   "metadata": {},
   "source": [
    "this even gives us a higher acuracy at 0.99 in some cases.\n",
    "\n",
    "from the graphs, we can see that both training and test set converging this is a good indication.\n",
    "\n",
    "#### 6.3 Kullback Leibler (KL) Divergence Loss\n",
    "Kullback leibler (KL) is a measure of how one probability distribution differs from a baseline distribution. KL Divergence is very similar to cross-entropy such that it calculates how much information is lost if the predicted probability distribution is used to approximate the desired target probability distribution.As such, the KL divergence loss function is more commonly used when using models that learn to approximate a more complex function than multi-class classification, such as in an autoencoder used for learning a dense feature representation under a model used to reconstruct the original input. Nevertheless, it can be used for multi-class classification and equivalent to categorical-crossentropy.\n",
    "\n",
    "we also need the hot encoded parameters and the validation_split in order to evaluate KL\n"
   ]
  },
  {
   "cell_type": "code",
   "execution_count": 21,
   "metadata": {},
   "outputs": [
    {
     "name": "stdout",
     "output_type": "stream",
     "text": [
      "Train on 54000 samples, validate on 6000 samples\n",
      "Epoch 1/4\n",
      "54000/54000 [==============================] - 132s 2ms/sample - loss: 0.2354 - accuracy: 0.9293 - val_loss: 0.0756 - val_accuracy: 0.9777\n",
      "Epoch 2/4\n",
      "54000/54000 [==============================] - 131s 2ms/sample - loss: 0.0793 - accuracy: 0.9758 - val_loss: 0.0592 - val_accuracy: 0.9830\n",
      "Epoch 3/4\n",
      "54000/54000 [==============================] - 123s 2ms/sample - loss: 0.0554 - accuracy: 0.9826 - val_loss: 0.0602 - val_accuracy: 0.9830\n",
      "Epoch 4/4\n",
      "54000/54000 [==============================] - 128s 2ms/sample - loss: 0.0432 - accuracy: 0.9865 - val_loss: 0.0521 - val_accuracy: 0.9853\n",
      "10000/10000 [==============================] - 3s 331us/sample - loss: 0.0460 - accuracy: 0.9867\n",
      "test loss is : 0.04600123713334324 - test accuracy is : 0.9866999983787537\n"
     ]
    },
    {
     "data": {
      "image/png": "[encoded data removed]",
      "text/plain": [
       "<Figure size 432x288 with 1 Axes>"
      ]
     },
     "metadata": {
      "needs_background": "light"
     },
     "output_type": "display_data"
    },
    {
     "data": {
      "image/png": "[encoded data removed]",
      "text/plain": [
       "<Figure size 432x288 with 1 Axes>"
      ]
     },
     "metadata": {
      "needs_background": "light"
     },
     "output_type": "display_data"
    }
   ],
   "source": [
    "from keras.utils import to_categorical\n",
    "\n",
    "model2 = keras.Sequential([\n",
    "        layers.Conv2D(filters=6, kernel_size=(5, 5), activation='relu', input_shape=(28,28,1)),\n",
    "        layers.AveragePooling2D(),\n",
    "        layers.Conv2D(filters=16, kernel_size=(3, 3), activation='relu', padding='same'),\n",
    "        layers.AveragePooling2D(),\n",
    "        layers.Flatten(),\n",
    "        layers.Dense(units=120, activation='relu'),\n",
    "        layers.Dense(units=84, activation='relu'),\n",
    "        layers.Dense(units=10, activation = 'softmax')   \n",
    "    ])\n",
    "\n",
    "\n",
    "#model2.summary()\n",
    "model2.compile(optimizer = \"adam\", loss = \"kullback_leibler_divergence\",\n",
    "                metrics = [\"accuracy\"])\n",
    "\n",
    "# x_train = np.pad(x_train, ((0,0),(2,2),(2,2),(0,0)), 'constant')\n",
    "history = model2.fit(x_train, y_train_cat, epochs = 4,validation_split=0.1)\n",
    "# Accuracy:\n",
    "accuracy(model2, x_test, y_test_cat)\n",
    "\n",
    "#plot loss during training\n",
    "plt.title('Kullback Leibler Divergence Loss')\n",
    "plt.plot(history.history['loss'], label='train')\n",
    "plt.plot(history.history['val_loss'], label='test')\n",
    "plt.legend()\n",
    "plt.show()\n",
    "# plot accuracy during training\n",
    "plt.subplot(212)\n",
    "plt.title('Accuracy')\n",
    "plt.plot(history.history['accuracy'], label='train')\n",
    "plt.plot(history.history['val_accuracy'], label='test')\n",
    "plt.legend()\n",
    "plt.show()"
   ]
  },
  {
   "cell_type": "markdown",
   "metadata": {},
   "source": [
    "from the graphs above, we can see that both training and test set converging this is a good indication on the model for training.\n",
    "\n",
    "### 7. TYPES OF POOLING\n",
    "\n",
    "According to the lecture notes pooling is a form of down-sampling that partitions the image into non-overlapping regions and computes a representation value for each region. Now there are several ways to achieve this, we will limmit ourselfves to the difference between average pooling and max pooling, since they are the most used. In the vanilla model we already experimented with average pooling, so now we will explore max pooling:"
   ]
  },
  {
   "cell_type": "code",
   "execution_count": 137,
   "metadata": {},
   "outputs": [],
   "source": [
    "from matplotlib import pyplot\n",
    "def display_img_cov(h,l,result):\n",
    "    ix = 1\n",
    "    for _ in range(h):\n",
    "        for _ in range(l):\n",
    "            # specify subplot and turn of axis\n",
    "            ax = pyplot.subplot(h, l, ix)\n",
    "            ax.set_xticks([])\n",
    "            ax.set_yticks([])\n",
    "            # plot filter channel in grayscale\n",
    "            pyplot.imshow(result[ :, :, ix-1], cmap='gray')\n",
    "            ix += 1\n",
    "    # show the figure\n",
    "    pyplot.show()"
   ]
  },
  {
   "cell_type": "code",
   "execution_count": 138,
   "metadata": {},
   "outputs": [
    {
     "name": "stdout",
     "output_type": "stream",
     "text": [
      "Epoch 1/4\n",
      "60000/60000 [==============================] - 25s 423us/sample - loss: 0.2219 - acc: 0.9322\n",
      "Epoch 2/4\n",
      "60000/60000 [==============================] - 24s 403us/sample - loss: 0.0808 - acc: 0.9743\n",
      "Epoch 3/4\n",
      "60000/60000 [==============================] - 30s 508us/sample - loss: 0.0576 - acc: 0.9818\n",
      "Epoch 4/4\n",
      "60000/60000 [==============================] - 24s 399us/sample - loss: 0.0437 - acc: 0.9865\n",
      "10000/10000 [==============================] - 3s 321us/sample - loss: 0.0501 - acc: 0.9842\n",
      "Epoch 1/4\n",
      "60000/60000 [==============================] - 25s 419us/sample - loss: 0.2349 - acc: 0.9290\n",
      "Epoch 2/4\n",
      "60000/60000 [==============================] - 24s 398us/sample - loss: 0.0810 - acc: 0.9751\n",
      "Epoch 3/4\n",
      "60000/60000 [==============================] - 24s 403us/sample - loss: 0.0572 - acc: 0.9822\n",
      "Epoch 4/4\n",
      "60000/60000 [==============================] - 24s 401us/sample - loss: 0.0449 - acc: 0.9857\n",
      "10000/10000 [==============================] - 3s 327us/sample - loss: 0.0499 - acc: 0.9838\n",
      "Epoch 1/4\n",
      "60000/60000 [==============================] - 25s 423us/sample - loss: 0.2378 - acc: 0.9281\n",
      "Epoch 2/4\n",
      "60000/60000 [==============================] - 24s 406us/sample - loss: 0.0777 - acc: 0.9762\n",
      "Epoch 3/4\n",
      "60000/60000 [==============================] - 24s 404us/sample - loss: 0.0562 - acc: 0.9829\n",
      "Epoch 4/4\n",
      "60000/60000 [==============================] - 25s 409us/sample - loss: 0.0440 - acc: 0.9858\n",
      "10000/10000 [==============================] - 4s 353us/sample - loss: 0.0523 - acc: 0.9819\n",
      "Epoch 1/4\n",
      "60000/60000 [==============================] - 24s 400us/sample - loss: 0.2314 - acc: 0.9309\n",
      "Epoch 2/4\n",
      "60000/60000 [==============================] - 23s 382us/sample - loss: 0.0774 - acc: 0.9761\n",
      "Epoch 3/4\n",
      "60000/60000 [==============================] - 23s 379us/sample - loss: 0.0529 - acc: 0.9833\n",
      "Epoch 4/4\n",
      "60000/60000 [==============================] - 23s 381us/sample - loss: 0.0414 - acc: 0.9869\n",
      "10000/10000 [==============================] - 3s 320us/sample - loss: 0.0368 - acc: 0.9886\n",
      "Epoch 1/4\n",
      "60000/60000 [==============================] - 29s 482us/sample - loss: 0.2194 - acc: 0.9340\n",
      "Epoch 2/4\n",
      "60000/60000 [==============================] - 24s 395us/sample - loss: 0.0695 - acc: 0.9788\n",
      "Epoch 3/4\n",
      "60000/60000 [==============================] - 23s 382us/sample - loss: 0.0506 - acc: 0.9840\n",
      "Epoch 4/4\n",
      "60000/60000 [==============================] - 23s 385us/sample - loss: 0.0395 - acc: 0.9876\n",
      "10000/10000 [==============================] - 3s 321us/sample - loss: 0.0472 - acc: 0.9863\n",
      "Epoch 1/4\n",
      "60000/60000 [==============================] - 24s 400us/sample - loss: 0.2352 - acc: 0.9310\n",
      "Epoch 2/4\n",
      "60000/60000 [==============================] - 24s 395us/sample - loss: 0.0772 - acc: 0.9768\n",
      "Epoch 3/4\n",
      "60000/60000 [==============================] - 25s 410us/sample - loss: 0.0542 - acc: 0.9833\n",
      "Epoch 4/4\n",
      "60000/60000 [==============================] - 23s 383us/sample - loss: 0.0413 - acc: 0.9869\n",
      "10000/10000 [==============================] - 3s 324us/sample - loss: 0.0423 - acc: 0.9869\n",
      "Epoch 1/4\n",
      "60000/60000 [==============================] - 24s 405us/sample - loss: 0.2606 - acc: 0.9208\n",
      "Epoch 2/4\n",
      "60000/60000 [==============================] - 23s 387us/sample - loss: 0.0843 - acc: 0.9742\n",
      "Epoch 3/4\n",
      "60000/60000 [==============================] - 23s 389us/sample - loss: 0.0603 - acc: 0.9813\n",
      "Epoch 4/4\n",
      "60000/60000 [==============================] - 24s 399us/sample - loss: 0.0453 - acc: 0.9856\n",
      "10000/10000 [==============================] - 3s 331us/sample - loss: 0.0458 - acc: 0.9849\n",
      "Epoch 1/4\n",
      "60000/60000 [==============================] - 25s 410us/sample - loss: 0.2449 - acc: 0.9244\n",
      "Epoch 2/4\n",
      "60000/60000 [==============================] - 24s 396us/sample - loss: 0.0810 - acc: 0.9752\n",
      "Epoch 3/4\n",
      "60000/60000 [==============================] - 24s 394us/sample - loss: 0.0587 - acc: 0.9822\n",
      "Epoch 4/4\n",
      "60000/60000 [==============================] - 24s 399us/sample - loss: 0.0455 - acc: 0.9862\n",
      "10000/10000 [==============================] - 3s 348us/sample - loss: 0.0406 - acc: 0.9866\n",
      "Epoch 1/4\n",
      "60000/60000 [==============================] - 26s 442us/sample - loss: 0.2314 - acc: 0.9318\n",
      "Epoch 2/4\n",
      "60000/60000 [==============================] - 24s 395us/sample - loss: 0.0736 - acc: 0.9775\n",
      "Epoch 3/4\n",
      "60000/60000 [==============================] - 24s 396us/sample - loss: 0.0513 - acc: 0.9842\n",
      "Epoch 4/4\n",
      "60000/60000 [==============================] - 24s 398us/sample - loss: 0.0403 - acc: 0.9876\n",
      "10000/10000 [==============================] - 3s 327us/sample - loss: 0.0431 - acc: 0.9863\n"
     ]
    }
   ],
   "source": [
    "sum = 0\n",
    "amount_of_runs = 10\n",
    "\n",
    "for i in range(0, amount_of_runs - 1):\n",
    "    \n",
    "    inputs = layers.Input(shape = (28,28,1))\n",
    "    cov1 = layers.Conv2D(filters=6, kernel_size=(3, 3), activation='relu')(inputs)\n",
    "    pooling1 = layers.AveragePooling2D()(cov1)\n",
    "    cov2 = layers.Conv2D(filters=16, kernel_size=(3, 3), activation='relu')(pooling1)\n",
    "    pooling2 = layers.AveragePooling2D()(cov2)\n",
    "    flat = layers.Flatten()(pooling2)\n",
    "    dense1 = layers.Dense(units=120, activation='relu')(flat)\n",
    "    dense2 = layers.Dense(units=84, activation='relu')(dense1)\n",
    "    dense3 = layers.Dense(units=10, activation = 'softmax')(dense2)\n",
    "    \n",
    "    model2_vanilla = models.Model(inputs,dense3)\n",
    "    model2_vanilla_cov1=models.Model(inputs,cov1)\n",
    "    model2_vanilla_cov2=models.Model(inputs,cov2)\n",
    "    \n",
    "    model2_vanilla.compile(optimizer = \"adam\", loss = \"sparse_categorical_crossentropy\", metrics = [\"accuracy\"])\n",
    "    model2_vanilla.fit(x_train, y_train, epochs = 4)\n",
    "    test_loss_max_pool, test_acc_max_pool = model2_vanilla.evaluate(x_test, y_test)\n",
    "    sum += test_acc_max_pool\n",
    "\n",
    "acc_avg_avgPooling = sum / amount_of_runs\n",
    "\n",
    "\n",
    "\n",
    "    "
   ]
  },
  {
   "cell_type": "code",
   "execution_count": 139,
   "metadata": {},
   "outputs": [],
   "source": [
    "result1 = model2_vanilla_cov1.predict(x_train)\n",
    "result1 = result1[16]\n",
    "result2 = model2_vanilla_cov2.predict(x_train)\n",
    "result2 = result2[16]"
   ]
  },
  {
   "cell_type": "code",
   "execution_count": 140,
   "metadata": {},
   "outputs": [
    {
     "data": {
      "image/png": "[encoded data removed]",
      "text/plain": [
       "<Figure size 432x288 with 6 Axes>"
      ]
     },
     "metadata": {},
     "output_type": "display_data"
    },
    {
     "data": {
      "image/png": "[encoded data removed]",
      "text/plain": [
       "<Figure size 432x288 with 16 Axes>"
      ]
     },
     "metadata": {},
     "output_type": "display_data"
    }
   ],
   "source": [
    "display_img_cov(2,3,result1)\n",
    "display_img_cov(4,4,result2)"
   ]
  },
  {
   "cell_type": "code",
   "execution_count": 141,
   "metadata": {},
   "outputs": [
    {
     "name": "stdout",
     "output_type": "stream",
     "text": [
      "Epoch 1/4\n",
      "60000/60000 [==============================] - 25s 421us/sample - loss: 0.1948 - acc: 0.9404\n",
      "Epoch 2/4\n",
      "60000/60000 [==============================] - 24s 408us/sample - loss: 0.0626 - acc: 0.9806\n",
      "Epoch 3/4\n",
      "60000/60000 [==============================] - 24s 405us/sample - loss: 0.0446 - acc: 0.9860\n",
      "Epoch 4/4\n",
      "60000/60000 [==============================] - 24s 404us/sample - loss: 0.0339 - acc: 0.9890\n",
      "10000/10000 [==============================] - 3s 339us/sample - loss: 0.0368 - acc: 0.9890\n",
      "Epoch 1/4\n",
      "60000/60000 [==============================] - 26s 433us/sample - loss: 0.1814 - acc: 0.9442\n",
      "Epoch 2/4\n",
      "60000/60000 [==============================] - 25s 410us/sample - loss: 0.0629 - acc: 0.9803\n",
      "Epoch 3/4\n",
      "60000/60000 [==============================] - 25s 409us/sample - loss: 0.0439 - acc: 0.9863\n",
      "Epoch 4/4\n",
      "60000/60000 [==============================] - 25s 409us/sample - loss: 0.0351 - acc: 0.9893\n",
      "10000/10000 [==============================] - 3s 343us/sample - loss: 0.0397 - acc: 0.9867\n",
      "Epoch 1/4\n",
      "60000/60000 [==============================] - 26s 430us/sample - loss: 0.1988 - acc: 0.9396\n",
      "Epoch 2/4\n",
      "60000/60000 [==============================] - 30s 506us/sample - loss: 0.0637 - acc: 0.9799\n",
      "Epoch 3/4\n",
      "60000/60000 [==============================] - 25s 417us/sample - loss: 0.0447 - acc: 0.9865\n",
      "Epoch 4/4\n",
      "60000/60000 [==============================] - 25s 410us/sample - loss: 0.0362 - acc: 0.9887\n",
      "10000/10000 [==============================] - 3s 343us/sample - loss: 0.0522 - acc: 0.9842\n",
      "Epoch 1/4\n",
      "60000/60000 [==============================] - 25s 424us/sample - loss: 0.2066 - acc: 0.9344\n",
      "Epoch 2/4\n",
      "60000/60000 [==============================] - 25s 410us/sample - loss: 0.0627 - acc: 0.9806\n",
      "Epoch 3/4\n",
      "60000/60000 [==============================] - 25s 410us/sample - loss: 0.0449 - acc: 0.9857\n",
      "Epoch 4/4\n",
      "60000/60000 [==============================] - 25s 412us/sample - loss: 0.0348 - acc: 0.9891\n",
      "10000/10000 [==============================] - 3s 345us/sample - loss: 0.0344 - acc: 0.9897\n",
      "Epoch 1/4\n",
      "60000/60000 [==============================] - 26s 429us/sample - loss: 0.1976 - acc: 0.9390\n",
      "Epoch 2/4\n",
      "60000/60000 [==============================] - 25s 417us/sample - loss: 0.0646 - acc: 0.9798\n",
      "Epoch 3/4\n",
      "60000/60000 [==============================] - 25s 413us/sample - loss: 0.0480 - acc: 0.9847\n",
      "Epoch 4/4\n",
      "60000/60000 [==============================] - 25s 423us/sample - loss: 0.0373 - acc: 0.9882\n",
      "10000/10000 [==============================] - 3s 343us/sample - loss: 0.0337 - acc: 0.9883\n",
      "Epoch 1/4\n",
      "60000/60000 [==============================] - 26s 431us/sample - loss: 0.1863 - acc: 0.9429\n",
      "Epoch 2/4\n",
      "60000/60000 [==============================] - 25s 414us/sample - loss: 0.0638 - acc: 0.9804\n",
      "Epoch 3/4\n",
      "60000/60000 [==============================] - 25s 415us/sample - loss: 0.0467 - acc: 0.9849\n",
      "Epoch 4/4\n",
      "60000/60000 [==============================] - 25s 412us/sample - loss: 0.0363 - acc: 0.9887\n",
      "10000/10000 [==============================] - 3s 348us/sample - loss: 0.0467 - acc: 0.9858\n",
      "Epoch 1/4\n",
      "60000/60000 [==============================] - 34s 561us/sample - loss: 0.1994 - acc: 0.9407\n",
      "Epoch 2/4\n",
      "60000/60000 [==============================] - 30s 499us/sample - loss: 0.0687 - acc: 0.9781\n",
      "Epoch 3/4\n",
      "60000/60000 [==============================] - 28s 466us/sample - loss: 0.0500 - acc: 0.9843\n",
      "Epoch 4/4\n",
      "60000/60000 [==============================] - 28s 469us/sample - loss: 0.0387 - acc: 0.9880\n",
      "10000/10000 [==============================] - 4s 373us/sample - loss: 0.0416 - acc: 0.9858\n",
      "Epoch 1/4\n",
      "60000/60000 [==============================] - 30s 506us/sample - loss: 0.1994 - acc: 0.9394\n",
      "Epoch 2/4\n",
      "60000/60000 [==============================] - 26s 439us/sample - loss: 0.0700 - acc: 0.9783\n",
      "Epoch 3/4\n",
      "60000/60000 [==============================] - 25s 425us/sample - loss: 0.0507 - acc: 0.9833\n",
      "Epoch 4/4\n",
      "60000/60000 [==============================] - 26s 427us/sample - loss: 0.0389 - acc: 0.9884\n",
      "10000/10000 [==============================] - 5s 490us/sample - loss: 0.0362 - acc: 0.9879\n",
      "Epoch 1/4\n",
      "60000/60000 [==============================] - 30s 495us/sample - loss: 0.1932 - acc: 0.9409\n",
      "Epoch 2/4\n",
      "60000/60000 [==============================] - 27s 455us/sample - loss: 0.0666 - acc: 0.9796\n",
      "Epoch 3/4\n",
      "60000/60000 [==============================] - 28s 471us/sample - loss: 0.0467 - acc: 0.9858\n",
      "Epoch 4/4\n",
      "60000/60000 [==============================] - 27s 457us/sample - loss: 0.0370 - acc: 0.9881\n",
      "10000/10000 [==============================] - 4s 379us/sample - loss: 0.0398 - acc: 0.9874\n"
     ]
    }
   ],
   "source": [
    "\n",
    "\n",
    "sum = 0\n",
    "\n",
    "for i in range(0, amount_of_runs - 1):\n",
    "    \n",
    "    inputs = layers.Input(shape = (28,28,1))\n",
    "    cov1 = layers.Conv2D(filters=6, kernel_size=(3, 3), activation='relu')(inputs)\n",
    "    pooling1 = layers.MaxPooling2D()(cov1)\n",
    "    cov2 = layers.Conv2D(filters=16, kernel_size=(3, 3), activation='relu')(pooling1)\n",
    "    pooling2 = layers.MaxPooling2D()(cov2)\n",
    "    flat = layers.Flatten()(pooling2)\n",
    "    dense1 = layers.Dense(units=120, activation='relu')(flat)\n",
    "    dense2 = layers.Dense(units=84, activation='relu')(dense1)\n",
    "    dense3 = layers.Dense(units=10, activation = 'softmax')(dense2)\n",
    "\n",
    "    model2_maxPooling = models.Model(inputs,dense3)\n",
    "    model2_maxPooling_cov1=models.Model(inputs,cov1)\n",
    "    model2_maxPooling_cov2=models.Model(inputs,cov2)\n",
    "    \n",
    "    model2_maxPooling.compile(optimizer = \"adam\", loss = \"sparse_categorical_crossentropy\", metrics = [\"accuracy\"])\n",
    "    model2_maxPooling.fit(x_train, y_train, epochs = 4)\n",
    "    test_loss_max_pool, test_acc_max_pool = model2_maxPooling.evaluate(x_test, y_test)\n",
    "    sum += test_acc_max_pool\n",
    "\n",
    "acc_avg_maxPooling = sum / amount_of_runs"
   ]
  },
  {
   "cell_type": "code",
   "execution_count": 142,
   "metadata": {},
   "outputs": [],
   "source": [
    "result1 = model2_maxPooling_cov1.predict(x_train)\n",
    "result1 = result1[16]\n",
    "result2 = model2_maxPooling_cov2.predict(x_train)\n",
    "result2 = result2[16]"
   ]
  },
  {
   "cell_type": "code",
   "execution_count": 143,
   "metadata": {},
   "outputs": [
    {
     "data": {
      "image/png": "[encoded data removed]",
      "text/plain": [
       "<Figure size 432x288 with 6 Axes>"
      ]
     },
     "metadata": {},
     "output_type": "display_data"
    },
    {
     "data": {
      "image/png": "[encoded data removed]",
      "text/plain": [
       "<Figure size 432x288 with 16 Axes>"
      ]
     },
     "metadata": {},
     "output_type": "display_data"
    }
   ],
   "source": [
    "display_img_cov(2,3,result1)\n",
    "display_img_cov(4,4,result2)"
   ]
  },
  {
   "cell_type": "code",
   "execution_count": 144,
   "metadata": {},
   "outputs": [
    {
     "name": "stdout",
     "output_type": "stream",
     "text": [
      "0.0015300214290618896\n",
      "0.8869499921798706\n",
      "0.8884800136089325\n"
     ]
    }
   ],
   "source": [
    "diff_acc_pooling = abs(acc_avg_avgPooling - acc_avg_maxPooling)\n",
    "print(diff_acc_pooling)\n",
    "print(acc_avg_avgPooling)\n",
    "print(acc_avg_maxPooling)"
   ]
  },
  {
   "cell_type": "code",
   "execution_count": null,
   "metadata": {},
   "outputs": [],
   "source": []
  },
  {
   "cell_type": "code",
   "execution_count": null,
   "metadata": {},
   "outputs": [],
   "source": []
  },
  {
   "cell_type": "markdown",
   "metadata": {},
   "source": [
    "### 8.NON-LINEAR ACTIVATION FUNCTIONS\n",
    "\n",
    "The activation function we used in our base model of LeNet is relu and softmax, we are going to play with different non-linear activation functions on different layers in the section below. We did not touch the softmax activation function for the last layer since softmax is an approximation for the Gaussian connections\n",
    "\n",
    "\n",
    "#### 8.1 TANH\n",
    "\n",
    "TANH is used in the original LeNet, but in general relu give us a better performance. This is the reason why we used relu in our netkwork in the first place. We can see this difference by the comparison below:"
   ]
  },
  {
   "cell_type": "code",
   "execution_count": 21,
   "metadata": {},
   "outputs": [
    {
     "name": "stdout",
     "output_type": "stream",
     "text": [
      "Train on 60000 samples\n",
      "Epoch 1/4\n",
      "60000/60000 [==============================] - 11s 189us/sample - loss: 0.2459 - accuracy: 0.9254\n",
      "Epoch 2/4\n",
      "60000/60000 [==============================] - 11s 177us/sample - loss: 0.0953 - accuracy: 0.9707\n",
      "Epoch 3/4\n",
      "60000/60000 [==============================] - 11s 177us/sample - loss: 0.0685 - accuracy: 0.9782\n",
      "Epoch 4/4\n",
      "60000/60000 [==============================] - 11s 178us/sample - loss: 0.0549 - accuracy: 0.9822\n",
      "10000/10000 [==============================] - 1s 72us/sample - loss: 0.0566 - accuracy: 0.9812\n",
      "test loss is : 0.05662589471100364 - test accuracy is : 0.9811999797821045\n"
     ]
    }
   ],
   "source": [
    "#### On convolutional layers\n",
    "model2_tanh_cov1 = keras.Sequential([\n",
    "        layers.Conv2D(filters=6, kernel_size=(3, 3), activation='tanh', input_shape=(28,28,1)),\n",
    "        layers.AveragePooling2D(),\n",
    "        layers.Conv2D(filters=16, kernel_size=(3, 3), activation='tanh'),\n",
    "        layers.AveragePooling2D(),\n",
    "        layers.Flatten(),\n",
    "        layers.Dense(units=120, activation='relu'),\n",
    "        layers.Dense(units=84, activation='relu'),\n",
    "        layers.Dense(units=10, activation = 'softmax')\n",
    "    ])\n",
    "model2_tanh_cov1.compile(optimizer = \"adam\", loss = \"sparse_categorical_crossentropy\",\n",
    "                metrics = [\"accuracy\"])\n",
    "\n",
    "\n",
    "model2_tanh_cov1.fit(x_train, y_train, epochs = 4)\n",
    "# Accuracy:\n",
    "accuracy(model2_tanh_cov1, x_test, y_test)"
   ]
  },
  {
   "cell_type": "code",
   "execution_count": 22,
   "metadata": {},
   "outputs": [
    {
     "name": "stdout",
     "output_type": "stream",
     "text": [
      "Train on 60000 samples\n",
      "Epoch 1/4\n",
      "60000/60000 [==============================] - 9s 157us/sample - loss: 0.2143 - accuracy: 0.9365\n",
      "Epoch 2/4\n",
      "60000/60000 [==============================] - 9s 154us/sample - loss: 0.0721 - accuracy: 0.9776\n",
      "Epoch 3/4\n",
      "60000/60000 [==============================] - 9s 152us/sample - loss: 0.0521 - accuracy: 0.9838\n",
      "Epoch 4/4\n",
      "60000/60000 [==============================] - 10s 159us/sample - loss: 0.0422 - accuracy: 0.9872\n",
      "10000/10000 [==============================] - 1s 69us/sample - loss: 0.0508 - accuracy: 0.9841\n",
      "test loss is : 0.05083518260112032 - test accuracy is : 0.9840999841690063\n"
     ]
    }
   ],
   "source": [
    "#### On dense layers\n",
    "model2_tanh_cov2 = keras.Sequential([\n",
    "        layers.Conv2D(filters=6, kernel_size=(3, 3), activation='relu', input_shape=(28,28,1)),\n",
    "        layers.AveragePooling2D(),\n",
    "        layers.Conv2D(filters=16, kernel_size=(3, 3), activation='relu'),\n",
    "        layers.AveragePooling2D(),\n",
    "        layers.Flatten(),\n",
    "        layers.Dense(units=120, activation='tanh'),\n",
    "        layers.Dense(units=84, activation='tanh'),\n",
    "        layers.Dense(units=10, activation = 'softmax')\n",
    "    ])\n",
    "model2_tanh_cov2.compile(optimizer = \"adam\", loss = \"sparse_categorical_crossentropy\",\n",
    "                metrics = [\"accuracy\"])\n",
    "\n",
    "# x_train = np.pad(x_train, ((0,0),(2,2),(2,2),(0,0)), 'constant')\n",
    "model2_tanh_cov2.fit(x_train, y_train, epochs = 4)\n",
    "# Accuracy:\n",
    "accuracy(model2_tanh_cov2, x_test, y_test)"
   ]
  },
  {
   "cell_type": "code",
   "execution_count": 23,
   "metadata": {},
   "outputs": [
    {
     "name": "stdout",
     "output_type": "stream",
     "text": [
      "Train on 60000 samples\n",
      "Epoch 1/4\n",
      "60000/60000 [==============================] - 11s 183us/sample - loss: 0.2463 - accuracy: 0.9254\n",
      "Epoch 2/4\n",
      "60000/60000 [==============================] - ETA: 0s - loss: 0.0922 - accuracy: 0.97 - 10s 171us/sample - loss: 0.0923 - accuracy: 0.9717\n",
      "Epoch 3/4\n",
      "60000/60000 [==============================] - 10s 171us/sample - loss: 0.0642 - accuracy: 0.9803\n",
      "Epoch 4/4\n",
      "60000/60000 [==============================] - 10s 170us/sample - loss: 0.0496 - accuracy: 0.9844\n",
      "10000/10000 [==============================] - 1s 69us/sample - loss: 0.0562 - accuracy: 0.9833\n",
      "test loss is : 0.05620512443222105 - test accuracy is : 0.983299970626831\n"
     ]
    }
   ],
   "source": [
    "# On both convolutional and dense layers\n",
    "model2_tanh_cov3 = keras.Sequential([\n",
    "        layers.Conv2D(filters=6, kernel_size=(3, 3), activation='tanh', input_shape=(28,28,1)),\n",
    "        layers.AveragePooling2D(),\n",
    "        layers.Conv2D(filters=16, kernel_size=(3, 3), activation='tanh'),\n",
    "        layers.AveragePooling2D(),\n",
    "        layers.Flatten(),\n",
    "        layers.Dense(units=120, activation='tanh'),\n",
    "        layers.Dense(units=84, activation='tanh'),\n",
    "        layers.Dense(units=10, activation = 'softmax')\n",
    "    ])\n",
    "model2_tanh_cov3.compile(optimizer = \"adam\", loss = \"sparse_categorical_crossentropy\",\n",
    "                metrics = [\"accuracy\"])\n",
    "\n",
    "# x_train = np.pad(x_train, ((0,0),(2,2),(2,2),(0,0)), 'constant')\n",
    "model2_tanh_cov3.fit(x_train, y_train, epochs = 4)\n",
    "# Accuracy:\n",
    "accuracy(model2_tanh_cov3, x_test, y_test)"
   ]
  },
  {
   "cell_type": "markdown",
   "metadata": {},
   "source": [
    "##### example of result from our original model (using purely *relu*)\n",
    "\n",
    "```\n",
    "Train on 60000 samples\n",
    "Epoch 1/4\n",
    "60000/60000 [==============================] - 10s 159us/sample - loss: 0.2182 - accuracy: 0.9356\n",
    "Epoch 2/4\n",
    "60000/60000 [==============================] - 9s 156us/sample - loss: 0.0768 - accuracy: 0.9762\n",
    "Epoch 3/4\n",
    "60000/60000 [==============================] - 9s 157us/sample - loss: 0.0539 - accuracy: 0.9828\n",
    "Epoch 4/4\n",
    "60000/60000 [==============================] - 10s 170us/sample - loss: 0.0415 - accuracy: 0.9873\n",
    "10000/10000 [==============================] - 1s 66us/sample - loss: 0.0357 - accuracy: 0.9883\n",
    "test loss is : 0.03569354592061136 - test accuracy is : 0.9883000254631042\n",
    "```"
   ]
  },
  {
   "cell_type": "markdown",
   "metadata": {},
   "source": [
    "We noticed that the effect of tanh activetion function has a bigger effect when used on covolutional layer and in general has less desired performence than relu.\n",
    "The accurecy drops about o.o04 when it comes to using tanh in covolutional layers and drops about 0.002 in 2 other cases comparing to our original madel that uses only *relu*."
   ]
  },
  {
   "cell_type": "markdown",
   "metadata": {},
   "source": [
    "\n",
    "#### 8.2 Sigmoid\n",
    "\n",
    "Sigmoid is a classic function for modeling neuron activation. Sigmoid makes a smoother gradiant, but does not react well when the input value is already in the extreme case.\n",
    "Using Sigmoid is also more intense computationaly to calculate the gradient compared to relu.\n",
    "\n"
   ]
  },
  {
   "cell_type": "code",
   "execution_count": 24,
   "metadata": {},
   "outputs": [
    {
     "name": "stdout",
     "output_type": "stream",
     "text": [
      "Train on 60000 samples\n",
      "Epoch 1/4\n",
      "60000/60000 [==============================] - 11s 176us/sample - loss: 0.9945 - accuracy: 0.6523\n",
      "Epoch 2/4\n",
      "60000/60000 [==============================] - 10s 175us/sample - loss: 0.2602 - accuracy: 0.9206\n",
      "Epoch 3/4\n",
      "60000/60000 [==============================] - 10s 175us/sample - loss: 0.1766 - accuracy: 0.9457\n",
      "Epoch 4/4\n",
      "60000/60000 [==============================] - 11s 176us/sample - loss: 0.1335 - accuracy: 0.9589\n",
      "10000/10000 [==============================] - 1s 72us/sample - loss: 0.1337 - accuracy: 0.9566\n",
      "test loss is : 0.13370707003325225 - test accuracy is : 0.95660001039505\n"
     ]
    }
   ],
   "source": [
    "#### On convolutional layers\n",
    "model2_sig_cov1 = keras.Sequential([\n",
    "        layers.Conv2D(filters=6, kernel_size=(3, 3), activation='sigmoid', input_shape=(28,28,1)),\n",
    "        layers.AveragePooling2D(),\n",
    "        layers.Conv2D(filters=16, kernel_size=(3, 3), activation='sigmoid'),\n",
    "        layers.AveragePooling2D(),\n",
    "        layers.Flatten(),\n",
    "        layers.Dense(units=120, activation='relu'),\n",
    "        layers.Dense(units=84, activation='relu'),\n",
    "        layers.Dense(units=10, activation = 'softmax')\n",
    "    ])\n",
    "model2_sig_cov1.compile(optimizer = \"adam\", loss = \"sparse_categorical_crossentropy\",\n",
    "                metrics = [\"accuracy\"])\n",
    "\n",
    "# x_train = np.pad(x_train, ((0,0),(2,2),(2,2),(0,0)), 'constant')\n",
    "model2_sig_cov1.fit(x_train, y_train, epochs = 4)\n",
    "# Accuracy:\n",
    "accuracy(model2_sig_cov1, x_test, y_test)"
   ]
  },
  {
   "cell_type": "code",
   "execution_count": 25,
   "metadata": {},
   "outputs": [
    {
     "name": "stdout",
     "output_type": "stream",
     "text": [
      "Train on 60000 samples\n",
      "Epoch 1/4\n",
      "60000/60000 [==============================] - 10s 169us/sample - loss: 0.3895 - accuracy: 0.8930\n",
      "Epoch 2/4\n",
      "60000/60000 [==============================] - 10s 169us/sample - loss: 0.1031 - accuracy: 0.9693\n",
      "Epoch 3/4\n",
      "60000/60000 [==============================] - 10s 168us/sample - loss: 0.0728 - accuracy: 0.9775\n",
      "Epoch 4/4\n",
      "60000/60000 [==============================] - 10s 170us/sample - loss: 0.0575 - accuracy: 0.9822\n",
      "10000/10000 [==============================] - 1s 73us/sample - loss: 0.0464 - accuracy: 0.9842\n",
      "test loss is : 0.046427146426029506 - test accuracy is : 0.9842000007629395\n"
     ]
    }
   ],
   "source": [
    "#### On dense layers\n",
    "model2_sig_cov2 = keras.Sequential([\n",
    "        layers.Conv2D(filters=6, kernel_size=(3, 3), activation='relu', input_shape=(28,28,1)),\n",
    "        layers.AveragePooling2D(),\n",
    "        layers.Conv2D(filters=16, kernel_size=(3, 3), activation='relu'),\n",
    "        layers.AveragePooling2D(),\n",
    "        layers.Flatten(),\n",
    "        layers.Dense(units=120, activation='sigmoid'),\n",
    "        layers.Dense(units=84, activation='sigmoid'),\n",
    "        layers.Dense(units=10, activation = 'softmax')\n",
    "    ])\n",
    "model2_sig_cov2.compile(optimizer = \"adam\", loss = \"sparse_categorical_crossentropy\",\n",
    "                metrics = [\"accuracy\"])\n",
    "\n",
    "# x_train = np.pad(x_train, ((0,0),(2,2),(2,2),(0,0)), 'constant')\n",
    "model2_sig_cov2.fit(x_train, y_train, epochs = 4)\n",
    "# Accuracy:\n",
    "accuracy(model2_sig_cov2, x_test, y_test)"
   ]
  },
  {
   "cell_type": "code",
   "execution_count": 26,
   "metadata": {},
   "outputs": [
    {
     "name": "stdout",
     "output_type": "stream",
     "text": [
      "Train on 60000 samples\n",
      "Epoch 1/4\n",
      "60000/60000 [==============================] - 11s 180us/sample - loss: 0.8223 - accuracy: 0.7352\n",
      "Epoch 2/4\n",
      "60000/60000 [==============================] - 10s 171us/sample - loss: 0.2337 - accuracy: 0.9280\n",
      "Epoch 3/4\n",
      "60000/60000 [==============================] - 10s 168us/sample - loss: 0.1587 - accuracy: 0.9514\n",
      "Epoch 4/4\n",
      "60000/60000 [==============================] - 10s 168us/sample - loss: 0.1215 - accuracy: 0.9625\n",
      "10000/10000 [==============================] - 1s 71us/sample - loss: 0.0991 - accuracy: 0.9689\n",
      "test loss is : 0.0991297063447535 - test accuracy is : 0.9689000248908997\n"
     ]
    }
   ],
   "source": [
    "#### On convolutional and dense layers\n",
    "model2_sig_cov3 = keras.Sequential([\n",
    "        layers.Conv2D(filters=6, kernel_size=(3, 3), activation='sigmoid', input_shape=(28,28,1)),\n",
    "        layers.AveragePooling2D(),\n",
    "        layers.Conv2D(filters=16, kernel_size=(3, 3), activation='sigmoid'),\n",
    "        layers.AveragePooling2D(),\n",
    "        layers.Flatten(),\n",
    "        layers.Dense(units=120, activation='sigmoid'),\n",
    "        layers.Dense(units=84, activation='sigmoid'),\n",
    "        layers.Dense(units=10, activation = 'softmax')\n",
    "    ])\n",
    "model2_sig_cov3.compile(optimizer = \"adam\", loss = \"sparse_categorical_crossentropy\",\n",
    "                metrics = [\"accuracy\"])\n",
    "\n",
    "# x_train = np.pad(x_train, ((0,0),(2,2),(2,2),(0,0)), 'constant')\n",
    "model2_sig_cov3.fit(x_train, y_train, epochs = 4)\n",
    "# Accuracy:\n",
    "accuracy(model2_sig_cov3, x_test, y_test)"
   ]
  },
  {
   "cell_type": "markdown",
   "metadata": {},
   "source": [
    "##### example of result from our original model (using purely *relu*)\n",
    "\n",
    "```\n",
    "Train on 60000 samples\n",
    "Epoch 1/4\n",
    "60000/60000 [==============================] - 10s 159us/sample - loss: 0.2182 - accuracy: 0.9356\n",
    "Epoch 2/4\n",
    "60000/60000 [==============================] - 9s 156us/sample - loss: 0.0768 - accuracy: 0.9762\n",
    "Epoch 3/4\n",
    "60000/60000 [==============================] - 9s 157us/sample - loss: 0.0539 - accuracy: 0.9828\n",
    "Epoch 4/4\n",
    "60000/60000 [==============================] - 10s 170us/sample - loss: 0.0415 - accuracy: 0.9873\n",
    "10000/10000 [==============================] - 1s 66us/sample - loss: 0.0357 - accuracy: 0.9883\n",
    "test loss is : 0.03569354592061136 - test accuracy is : 0.9883000254631042\n",
    "```"
   ]
  },
  {
   "cell_type": "markdown",
   "metadata": {},
   "source": [
    "Here we have a similar result, the change of function of the covolutional layer has a bigger impact, and the overall performence is worse than using relu or tanh.\n",
    "The accurecy drops about o.o3 when it comes to using tanh in covolutional layers, drops about 0.02 in when used in both in covolutional and dense layers and drops about 0.002 when used only in dense layers comparing to our original madel that uses only *relu*."
   ]
  },
  {
   "cell_type": "markdown",
   "metadata": {},
   "source": [
    "### 9. NUMBER OF FILTERS\n",
    "we have so far used 6 and 16 filters on the first and second convolutional layers respectively for model 2.\n",
    "\n",
    "In this experiment, we aim to observe changes with different filter sizes. Below is the model 2 with 4 and 10 filters at the first and second convolutional layers."
   ]
  },
  {
   "cell_type": "code",
   "execution_count": 27,
   "metadata": {},
   "outputs": [
    {
     "name": "stdout",
     "output_type": "stream",
     "text": [
      "Train on 60000 samples\n",
      "Epoch 1/4\n",
      "60000/60000 [==============================] - 10s 161us/sample - loss: 0.2740 - accuracy: 0.9172\n",
      "Epoch 2/4\n",
      "60000/60000 [==============================] - 9s 155us/sample - loss: 0.0858 - accuracy: 0.9737\n",
      "Epoch 3/4\n",
      "60000/60000 [==============================] - 9s 156us/sample - loss: 0.0619 - accuracy: 0.9809\n",
      "Epoch 4/4\n",
      "60000/60000 [==============================] - 9s 156us/sample - loss: 0.0491 - accuracy: 0.9845\n",
      "10000/10000 [==============================] - 1s 62us/sample - loss: 0.0451 - accuracy: 0.9861\n",
      "test loss is : 0.04514116417039186 - test accuracy is : 0.9861000180244446\n"
     ]
    }
   ],
   "source": [
    "model2 = keras.Sequential([\n",
    "        layers.Conv2D(filters=4, kernel_size=(3, 3), activation='relu', input_shape=(28,28,1)),\n",
    "        layers.AveragePooling2D(),\n",
    "        layers.Conv2D(filters=10, kernel_size=(3, 3), activation='relu'),\n",
    "        layers.AveragePooling2D(),\n",
    "        layers.Flatten(),\n",
    "        layers.Dense(units=120, activation='relu'),\n",
    "        layers.Dense(units=84, activation='relu'),\n",
    "        layers.Dense(units=10, activation = 'softmax')\n",
    "    ])\n",
    "\n",
    "\n",
    "#model2.summary()\n",
    "model2.compile(optimizer = \"adam\", loss = \"sparse_categorical_crossentropy\",\n",
    "                metrics = [\"accuracy\"])\n",
    "\n",
    "# x_train = np.pad(x_train, ((0,0),(2,2),(2,2),(0,0)), 'constant')\n",
    "model2.fit(x_train, y_train, epochs = 4)\n",
    "# Accuracy:\n",
    "accuracy(model2, x_test, y_test)\n",
    "roc_curve(model2, x_test, y_test)\n",
    "precision_recall(model2, x_test, y_test)"
   ]
  },
  {
   "cell_type": "markdown",
   "metadata": {},
   "source": [
    "Below is the same model with 10 and 20 filters in the first and second convolutional layers respectively."
   ]
  },
  {
   "cell_type": "code",
   "execution_count": 28,
   "metadata": {},
   "outputs": [
    {
     "name": "stdout",
     "output_type": "stream",
     "text": [
      "Train on 60000 samples\n",
      "Epoch 1/4\n",
      "60000/60000 [==============================] - 11s 178us/sample - loss: 0.2297 - accuracy: 0.9312\n",
      "Epoch 2/4\n",
      "60000/60000 [==============================] - 10s 174us/sample - loss: 0.0755 - accuracy: 0.9771\n",
      "Epoch 3/4\n",
      "60000/60000 [==============================] - 10s 174us/sample - loss: 0.0525 - accuracy: 0.9836\n",
      "Epoch 4/4\n",
      "60000/60000 [==============================] - 10s 174us/sample - loss: 0.0405 - accuracy: 0.9872\n",
      "10000/10000 [==============================] - 1s 67us/sample - loss: 0.0397 - accuracy: 0.9871\n",
      "test loss is : 0.03973332418128266 - test accuracy is : 0.9871000051498413\n"
     ]
    }
   ],
   "source": [
    "model2 = keras.Sequential([\n",
    "        layers.Conv2D(filters=10, kernel_size=(3, 3), activation='relu', input_shape=(28,28,1)),\n",
    "        layers.AveragePooling2D(),\n",
    "        layers.Conv2D(filters=20, kernel_size=(3, 3), activation='relu'),\n",
    "        layers.AveragePooling2D(),\n",
    "        layers.Flatten(),\n",
    "        layers.Dense(units=120, activation='relu'),\n",
    "        layers.Dense(units=84, activation='relu'),\n",
    "        layers.Dense(units=10, activation = 'softmax')\n",
    "    ])\n",
    "\n",
    "\n",
    "#model2.summary()\n",
    "model2.compile(optimizer = \"adam\", loss = \"sparse_categorical_crossentropy\",\n",
    "                metrics = [\"accuracy\"])\n",
    "\n",
    "# x_train = np.pad(x_train, ((0,0),(2,2),(2,2),(0,0)), 'constant')\n",
    "model2.fit(x_train, y_train, epochs = 4)\n",
    "# Accuracy:\n",
    "accuracy(model2, x_test, y_test)\n",
    "roc_curve(model2, x_test, y_test)\n",
    "precision_recall(model2, x_test, y_test)"
   ]
  },
  {
   "cell_type": "markdown",
   "metadata": {},
   "source": [
    "from the above two models , there is no significant change to the accuracy of the model. We have observed that changing one parameter does not always give a significant change for conclusion. We need to manipulate at least two parameters to have an observable metric."
   ]
  }
 ],
 "metadata": {
  "kernelspec": {
   "display_name": "Python 3",
   "language": "python",
   "name": "python3"
  },
  "language_info": {
   "codemirror_mode": {
    "name": "ipython",
    "version": 3
   },
   "file_extension": ".py",
   "mimetype": "text/x-python",
   "name": "python",
   "nbconvert_exporter": "python",
   "pygments_lexer": "ipython3",
   "version": "3.6.9"
  }
 },
 "nbformat": 4,
 "nbformat_minor": 2
}
