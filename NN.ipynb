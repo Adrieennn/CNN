{
 "cells": [
  {
   "cell_type": "markdown",
   "metadata": {},
   "source": [
    "# Project: Evaluation of neural network architectures on MNIST datasets\n",
    "\n",
    "## Group Members : Yidong HUANG, Simon ROBER, Marck-Edward KEMEH\n",
    "\n",
    "### ABOUT\n",
    "The MNIST dataset is a large database of handwritten digits used in many forms of image processing.\n",
    "This dataset contains 60,000 training images and 10,000 test images. Our aim is to design some neural \n",
    "networks that can recognise these hand-written digits. our projects will be based on two different networks\n",
    "for this task.                   "
   ]
  },
  {
   "cell_type": "code",
   "execution_count": 1,
   "metadata": {},
   "outputs": [],
   "source": [
    "import numpy as np\n",
    "import tensorflow as tf\n",
    "import tensorflow.keras as keras\n",
    "import tensorflow.keras.layers as layers\n",
    "import tensorflow.keras.models as models\n",
    "import scikitplot as skplt\n",
    "import matplotlib.pyplot as plt\n",
    "import sklearn as skl\n",
    "from sklearn.metrics import roc_curve"
   ]
  },
  {
   "cell_type": "markdown",
   "metadata": {},
   "source": [
    "We begin by splitting the MNIST dataset into two. A set for training and another for testing.\n",
    "We then normalize the test set and training set by dividing with 255 so that the values can be between 0 and 1.\n",
    "Because we will be working with convolutional neural network, we need to change the original shape of the MNIST dataset which is (60000, 28, 28) to that of the convolutional neural network (60000, 28, 28, 1).\n",
    "This section is just to prepare our dataset for the network."
   ]
  },
  {
   "cell_type": "code",
   "execution_count": 2,
   "metadata": {},
   "outputs": [
    {
     "name": "stdout",
     "output_type": "stream",
     "text": [
      "shape before adding dimension is : (60000, 28, 28)\n",
      "shape after adding dimension is : (60000, 28, 28, 1)\n"
     ]
    }
   ],
   "source": [
    "# dividing dataset into train and test set, also reshaping dataset to fit input of network\n",
    "mnist = tf.keras.datasets.mnist\n",
    "(x_train, y_train), (x_test, y_test) = mnist.load_data()\n",
    "x_train, x_test = x_train/255.0, x_test/255.0\n",
    "print('shape before adding dimension is :' ,x_train.shape)\n",
    "x_train, x_test = np.expand_dims(x_train, axis= -1), np.expand_dims(x_test, axis = -1)\n",
    "x_train = x_train.reshape(x_train.shape[0],28,28,1)\n",
    "x_test = x_test.reshape(x_test.shape[0],28,28,1)\n",
    "print ('shape after adding dimension is :' ,x_train.shape)"
   ]
  },
  {
   "cell_type": "markdown",
   "metadata": {},
   "source": [
    "### First Model\n",
    "Our first model is a simple network definition which will be used to train the neural network.\n",
    "Our input shape has to match that of the train set as did above and we are using relu as activation\n"
   ]
  },
  {
   "cell_type": "code",
   "execution_count": 9,
   "metadata": {
    "scrolled": true
   },
   "outputs": [
    {
     "name": "stdout",
     "output_type": "stream",
     "text": [
      "Model: \"sequential_1\"\n",
      "_________________________________________________________________\n",
      "Layer (type)                 Output Shape              Param #   \n",
      "=================================================================\n",
      "conv2d_2 (Conv2D)            (None, 26, 26, 32)        320       \n",
      "_________________________________________________________________\n",
      "max_pooling2d (MaxPooling2D) (None, 13, 13, 32)        0         \n",
      "_________________________________________________________________\n",
      "flatten_1 (Flatten)          (None, 5408)              0         \n",
      "_________________________________________________________________\n",
      "dense_3 (Dense)              (None, 10)                54090     \n",
      "=================================================================\n",
      "Total params: 54,410\n",
      "Trainable params: 54,410\n",
      "Non-trainable params: 0\n",
      "_________________________________________________________________\n"
     ]
    }
   ],
   "source": [
    "#first simple model\n",
    "\n",
    "model1 = keras.Sequential()\n",
    "model1.add(layers.Input(shape = (28,28,1)))\n",
    "model1.add(layers.Conv2D(32, (3,3), padding ='valid', activation = 'relu'))\n",
    "model1.add(layers.MaxPool2D((2,2), (2, 2)))\n",
    "model1.add(layers.Flatten())\n",
    "model1.add(layers.Dense(10, activation = 'softmax'))\n",
    "model1.summary()\n",
    "model1.compile(optimizer = \"adam\", loss = \"sparse_categorical_crossentropy\",\n",
    "                metrics = [\"accuracy\"])"
   ]
  },
  {
   "cell_type": "markdown",
   "metadata": {},
   "source": [
    "We now test using our test set against the model we trained to determine if the model actually learned to recognise the digits. For each epoch, we can see the loss rate is decreasing which tells us the model is actually improving on the learning."
   ]
  },
  {
   "cell_type": "code",
   "execution_count": 10,
   "metadata": {},
   "outputs": [
    {
     "name": "stdout",
     "output_type": "stream",
     "text": [
      "Train on 60000 samples\n",
      "Epoch 1/4\n",
      "60000/60000 [==============================] - 25s 410us/sample - loss: 0.2159 - accuracy: 0.9375\n",
      "Epoch 2/4\n",
      "60000/60000 [==============================] - 25s 413us/sample - loss: 0.0808 - accuracy: 0.9774\n",
      "Epoch 3/4\n",
      "60000/60000 [==============================] - 25s 421us/sample - loss: 0.0618 - accuracy: 0.9818\n",
      "Epoch 4/4\n",
      "60000/60000 [==============================] - 39s 644us/sample - loss: 0.0510 - accuracy: 0.9849\n"
     ]
    },
    {
     "data": {
      "text/plain": [
       "<tensorflow.python.keras.callbacks.History at 0x7f50d87d3110>"
      ]
     },
     "execution_count": 10,
     "metadata": {},
     "output_type": "execute_result"
    }
   ],
   "source": [
    "#training\n",
    "model1.fit(x_train, y_train, epochs = 4)"
   ]
  },
  {
   "cell_type": "markdown",
   "metadata": {},
   "source": [
    "Next we use the accuracy to determine how well our classifier classifies on the test set to make sure we are not over fitting.\n"
   ]
  },
  {
   "cell_type": "code",
   "execution_count": 3,
   "metadata": {
    "scrolled": true
   },
   "outputs": [
    {
     "ename": "NameError",
     "evalue": "name 'model1' is not defined",
     "output_type": "error",
     "traceback": [
      "\u001b[0;31m---------------------------------------------------------------------------\u001b[0m",
      "\u001b[0;31mNameError\u001b[0m                                 Traceback (most recent call last)",
      "\u001b[0;32m<ipython-input-3-981af380e44a>\u001b[0m in \u001b[0;36m<module>\u001b[0;34m\u001b[0m\n\u001b[1;32m      5\u001b[0m \u001b[0;34m\u001b[0m\u001b[0m\n\u001b[1;32m      6\u001b[0m \u001b[0;31m# Accuracy:\u001b[0m\u001b[0;34m\u001b[0m\u001b[0;34m\u001b[0m\u001b[0;34m\u001b[0m\u001b[0m\n\u001b[0;32m----> 7\u001b[0;31m \u001b[0maccuracy\u001b[0m\u001b[0;34m(\u001b[0m\u001b[0mmodel1\u001b[0m\u001b[0;34m,\u001b[0m \u001b[0mx_test\u001b[0m\u001b[0;34m,\u001b[0m \u001b[0my_test\u001b[0m\u001b[0;34m)\u001b[0m\u001b[0;34m\u001b[0m\u001b[0;34m\u001b[0m\u001b[0m\n\u001b[0m",
      "\u001b[0;31mNameError\u001b[0m: name 'model1' is not defined"
     ]
    }
   ],
   "source": [
    "def accuracy(model, x_test, y_test):\n",
    "    test_loss, test_acc = model.evaluate(x_test, y_test)\n",
    "    print(\"test loss is : {0} - test accuracy is : {1}\".format(test_loss, test_acc))\n",
    "\n",
    "    \n",
    "# Accuracy:\n",
    "accuracy(model1, x_test, y_test)"
   ]
  },
  {
   "cell_type": "markdown",
   "metadata": {},
   "source": [
    "#### ROC\n",
    "We implement the ROC curve and Precision-Recall curve to view the performance of our model on the test set"
   ]
  },
  {
   "cell_type": "code",
   "execution_count": 4,
   "metadata": {},
   "outputs": [
    {
     "ename": "NameError",
     "evalue": "name 'model1' is not defined",
     "output_type": "error",
     "traceback": [
      "\u001b[0;31m---------------------------------------------------------------------------\u001b[0m",
      "\u001b[0;31mNameError\u001b[0m                                 Traceback (most recent call last)",
      "\u001b[0;32m<ipython-input-4-dbf920fd542c>\u001b[0m in \u001b[0;36m<module>\u001b[0;34m\u001b[0m\n\u001b[1;32m      6\u001b[0m \u001b[0;34m\u001b[0m\u001b[0m\n\u001b[1;32m      7\u001b[0m \u001b[0;31m# ROC:\u001b[0m\u001b[0;34m\u001b[0m\u001b[0;34m\u001b[0m\u001b[0;34m\u001b[0m\u001b[0m\n\u001b[0;32m----> 8\u001b[0;31m \u001b[0mroc_curve\u001b[0m\u001b[0;34m(\u001b[0m\u001b[0mmodel1\u001b[0m\u001b[0;34m,\u001b[0m \u001b[0mx_test\u001b[0m\u001b[0;34m,\u001b[0m \u001b[0my_test\u001b[0m\u001b[0;34m)\u001b[0m\u001b[0;34m\u001b[0m\u001b[0;34m\u001b[0m\u001b[0m\n\u001b[0m\u001b[1;32m      9\u001b[0m \u001b[0;34m\u001b[0m\u001b[0m\n\u001b[1;32m     10\u001b[0m \u001b[0;32mdef\u001b[0m \u001b[0mprecision_recall\u001b[0m\u001b[0;34m(\u001b[0m\u001b[0mmodel\u001b[0m\u001b[0;34m,\u001b[0m \u001b[0mx_test\u001b[0m\u001b[0;34m,\u001b[0m \u001b[0my_test\u001b[0m\u001b[0;34m)\u001b[0m\u001b[0;34m:\u001b[0m\u001b[0;34m\u001b[0m\u001b[0;34m\u001b[0m\u001b[0m\n",
      "\u001b[0;31mNameError\u001b[0m: name 'model1' is not defined"
     ]
    }
   ],
   "source": [
    "def roc_curve(model, x_test, y_test):\n",
    "    y_true = y_test # Given ground truth\n",
    "    y_probas = model.predict(x_test)\n",
    "    skplt.metrics.plot_roc(y_true, y_probas, figsize=(6,6))     # https://scikit-plot.readthedocs.io/en/stable/metrics.html\n",
    "    plt.show()\n",
    "\n",
    "# ROC:\n",
    "roc_curve(model1, x_test, y_test)\n",
    "\n",
    "def precision_recall(model, x_test, y_test):\n",
    "    y_probas = model.predict(x_test)\n",
    "    skplt.metrics.plot_precision_recall(y_test, y_probas)\n",
    "    plt.show()\n",
    "    \n",
    "# Precision-Recall:\n",
    "precision_recall(model1, x_test, y_test)"
   ]
  },
  {
   "cell_type": "markdown",
   "metadata": {},
   "source": [
    "**TODO: interpret results of Roc Curve, Precision recall!!! **"
   ]
  },
  {
   "cell_type": "markdown",
   "metadata": {},
   "source": [
    "### Second Model\n",
    "Below is our second model which follows LeNet architecture and has an input shape of (32, 32, 1). Again we define the network, train it and see how it performs in terms of accuracy, Roc curve and Precision-Recall curve."
   ]
  },
  {
   "cell_type": "code",
   "execution_count": 10,
   "metadata": {
    "scrolled": false
   },
   "outputs": [
    {
     "name": "stdout",
     "output_type": "stream",
     "text": [
      "Model: \"sequential_2\"\n",
      "_________________________________________________________________\n",
      "Layer (type)                 Output Shape              Param #   \n",
      "=================================================================\n",
      "conv2d_3 (Conv2D)            (None, 26, 26, 6)         60        \n",
      "_________________________________________________________________\n",
      "average_pooling2d_2 (Average (None, 13, 13, 6)         0         \n",
      "_________________________________________________________________\n",
      "conv2d_4 (Conv2D)            (None, 11, 11, 16)        880       \n",
      "_________________________________________________________________\n",
      "average_pooling2d_3 (Average (None, 5, 5, 16)          0         \n",
      "_________________________________________________________________\n",
      "flatten_2 (Flatten)          (None, 400)               0         \n",
      "_________________________________________________________________\n",
      "dense_4 (Dense)              (None, 120)               48120     \n",
      "_________________________________________________________________\n",
      "dense_5 (Dense)              (None, 84)                10164     \n",
      "_________________________________________________________________\n",
      "dense_6 (Dense)              (None, 10)                850       \n",
      "=================================================================\n",
      "Total params: 60,074\n",
      "Trainable params: 60,074\n",
      "Non-trainable params: 0\n",
      "_________________________________________________________________\n",
      "Train on 60000 samples\n",
      "Epoch 1/4\n",
      "60000/60000 [==============================] - 137s 2ms/sample - loss: 0.2276 - accuracy: 0.9343\n",
      "Epoch 2/4\n",
      "60000/60000 [==============================] - 133s 2ms/sample - loss: 0.0744 - accuracy: 0.9771\n",
      "Epoch 3/4\n",
      "60000/60000 [==============================] - 137s 2ms/sample - loss: 0.0548 - accuracy: 0.9832\n",
      "Epoch 4/4\n",
      "60000/60000 [==============================] - 139s 2ms/sample - loss: 0.0418 - accuracy: 0.9867\n",
      "10000/10000 [==============================] - 4s 354us/sample - loss: 0.0421 - accuracy: 0.9863\n",
      "test loss is : 0.042148706212081014 - test accuracy is : 0.986299991607666\n"
     ]
    }
   ],
   "source": [
    "model2 = keras.Sequential([\n",
    "        layers.Conv2D(filters=6, kernel_size=(3, 3), activation='relu', input_shape=(28,28,1)),\n",
    "        layers.AveragePooling2D(),\n",
    "        layers.Conv2D(filters=16, kernel_size=(3, 3), activation='relu'),\n",
    "        layers.AveragePooling2D(),\n",
    "        layers.Flatten(),\n",
    "        layers.Dense(units=120, activation='relu'),\n",
    "        layers.Dense(units=84, activation='relu'),\n",
    "        layers.Dense(units=10, activation = 'softmax')\n",
    "    ])\n",
    "\n",
    "\n",
    "model2.summary()\n",
    "model2.compile(optimizer = \"adam\", loss = \"sparse_categorical_crossentropy\",\n",
    "                metrics = [\"accuracy\"])\n",
    "\n",
    "# x_train = np.pad(x_train, ((0,0),(2,2),(2,2),(0,0)), 'constant')\n",
    "model2.fit(x_train, y_train, epochs = 4)\n",
    "# Accuracy:\n",
    "accuracy(model2, x_test, y_test)"
   ]
  },
  {
   "cell_type": "code",
   "execution_count": 11,
   "metadata": {
    "scrolled": true
   },
   "outputs": [
    {
     "data": {
      "image/png": "[encoded data removed]",
      "text/plain": [
       "<Figure size 432x432 with 1 Axes>"
      ]
     },
     "metadata": {
      "needs_background": "light"
     },
     "output_type": "display_data"
    },
    {
     "data": {
      "image/png": "[encoded data removed]",
      "text/plain": [
       "<Figure size 432x288 with 1 Axes>"
      ]
     },
     "metadata": {
      "needs_background": "light"
     },
     "output_type": "display_data"
    }
   ],
   "source": [
    "roc_curve(model2, x_test, y_test)\n",
    "precision_recall(model2, x_test, y_test)"
   ]
  },
  {
   "cell_type": "markdown",
   "metadata": {},
   "source": []
  },
  {
   "cell_type": "markdown",
   "metadata": {},
   "source": [
    "**TODO: interpret results of Roc Curve, Precision recall!!! + Add comments to the model.**\n",
    "\n",
    "As you can see we now use all the previous defined functions to build the second model.\n",
    "These first two model were our first experience playing around with Keras and with the CNN. In the next section we will look into the parameters in a more systematic maner. We will build on the second model described above and alter one parameter everytime"
   ]
  },
  {
   "cell_type": "markdown",
   "metadata": {},
   "source": [
    "#### Comparison model one and model two "
   ]
  },
  {
   "cell_type": "markdown",
   "metadata": {},
   "source": [
    "At the default learning learning rate and basic definitions of each models, model 1 learns in a very short time and more accurately than model 2. model1 learns at an average ETA of 30s per epoch while model2 learns at an average ETA of 137s per epoch"
   ]
  },
  {
   "cell_type": "markdown",
   "metadata": {},
   "source": [
    "#### Learning Rate\n",
    "\n",
    "By default the learning rate of the model with Adam is 0.001. Lets increase and decease the learning rate slightly to see what the effect is."
   ]
  },
  {
   "cell_type": "code",
   "execution_count": 13,
   "metadata": {
    "scrolled": true
   },
   "outputs": [
    {
     "name": "stdout",
     "output_type": "stream",
     "text": [
      "Model: \"sequential_3\"\n",
      "_________________________________________________________________\n",
      "Layer (type)                 Output Shape              Param #   \n",
      "=================================================================\n",
      "conv2d_4 (Conv2D)            (None, 26, 26, 6)         60        \n",
      "_________________________________________________________________\n",
      "average_pooling2d_2 (Average (None, 13, 13, 6)         0         \n",
      "_________________________________________________________________\n",
      "conv2d_5 (Conv2D)            (None, 11, 11, 16)        880       \n",
      "_________________________________________________________________\n",
      "average_pooling2d_3 (Average (None, 5, 5, 16)          0         \n",
      "_________________________________________________________________\n",
      "flatten_3 (Flatten)          (None, 400)               0         \n",
      "_________________________________________________________________\n",
      "dense_5 (Dense)              (None, 120)               48120     \n",
      "_________________________________________________________________\n",
      "dense_6 (Dense)              (None, 84)                10164     \n",
      "_________________________________________________________________\n",
      "dense_7 (Dense)              (None, 10)                850       \n",
      "=================================================================\n",
      "Total params: 60,074\n",
      "Trainable params: 60,074\n",
      "Non-trainable params: 0\n",
      "_________________________________________________________________\n"
     ]
    },
    {
     "ename": "AttributeError",
     "evalue": "module 'tensorflow.python.keras.api._v1.keras.optimizers' has no attribute 'adam'",
     "output_type": "error",
     "traceback": [
      "\u001b[0;31m---------------------------------------------------------------------------\u001b[0m",
      "\u001b[0;31mAttributeError\u001b[0m                            Traceback (most recent call last)",
      "\u001b[0;32m<ipython-input-13-a8d7acc7e26a>\u001b[0m in \u001b[0;36m<module>\u001b[0;34m\u001b[0m\n\u001b[1;32m     11\u001b[0m \u001b[0;34m\u001b[0m\u001b[0m\n\u001b[1;32m     12\u001b[0m \u001b[0mmodel2_increase_lr\u001b[0m\u001b[0;34m.\u001b[0m\u001b[0msummary\u001b[0m\u001b[0;34m(\u001b[0m\u001b[0;34m)\u001b[0m\u001b[0;34m\u001b[0m\u001b[0;34m\u001b[0m\u001b[0m\n\u001b[0;32m---> 13\u001b[0;31m model2_increase_lr.compile(optimizer = tf.keras.optimizers.adam(learning_rate=0.01)\n\u001b[0m\u001b[1;32m     14\u001b[0m , loss = \"sparse_categorical_crossentropy\", metrics = [\"accuracy\"])\n\u001b[1;32m     15\u001b[0m \u001b[0;34m\u001b[0m\u001b[0m\n",
      "\u001b[0;32m~/.local/lib/python3.6/site-packages/tensorflow/python/util/deprecation_wrapper.py\u001b[0m in \u001b[0;36m__getattr__\u001b[0;34m(self, name)\u001b[0m\n\u001b[1;32m    104\u001b[0m     \u001b[0;32mif\u001b[0m \u001b[0mname\u001b[0m\u001b[0;34m.\u001b[0m\u001b[0mstartswith\u001b[0m\u001b[0;34m(\u001b[0m\u001b[0;34m'_dw_'\u001b[0m\u001b[0;34m)\u001b[0m\u001b[0;34m:\u001b[0m\u001b[0;34m\u001b[0m\u001b[0;34m\u001b[0m\u001b[0m\n\u001b[1;32m    105\u001b[0m       \u001b[0;32mraise\u001b[0m \u001b[0mAttributeError\u001b[0m\u001b[0;34m(\u001b[0m\u001b[0;34m'Accessing local variables before they are created.'\u001b[0m\u001b[0;34m)\u001b[0m\u001b[0;34m\u001b[0m\u001b[0;34m\u001b[0m\u001b[0m\n\u001b[0;32m--> 106\u001b[0;31m     \u001b[0mattr\u001b[0m \u001b[0;34m=\u001b[0m \u001b[0mgetattr\u001b[0m\u001b[0;34m(\u001b[0m\u001b[0mself\u001b[0m\u001b[0;34m.\u001b[0m\u001b[0m_dw_wrapped_module\u001b[0m\u001b[0;34m,\u001b[0m \u001b[0mname\u001b[0m\u001b[0;34m)\u001b[0m\u001b[0;34m\u001b[0m\u001b[0;34m\u001b[0m\u001b[0m\n\u001b[0m\u001b[1;32m    107\u001b[0m     if (self._dw_warning_count < _PER_MODULE_WARNING_LIMIT and\n\u001b[1;32m    108\u001b[0m         name not in self._dw_deprecated_printed):\n",
      "\u001b[0;31mAttributeError\u001b[0m: module 'tensorflow.python.keras.api._v1.keras.optimizers' has no attribute 'adam'"
     ]
    }
   ],
   "source": [
    "model2_increase_lr = keras.Sequential([\n",
    "        layers.Conv2D(filters=6, kernel_size=(3, 3), activation='relu', input_shape=(28,28,1)),\n",
    "        layers.AveragePooling2D(),\n",
    "        layers.Conv2D(filters=16, kernel_size=(3, 3), activation='relu'),\n",
    "        layers.AveragePooling2D(),\n",
    "        layers.Flatten(),\n",
    "        layers.Dense(units=120, activation='relu'),\n",
    "        layers.Dense(units=84, activation='relu'),\n",
    "        layers.Dense(units=10, activation = 'softmax')\n",
    "    ])\n",
    "\n",
    "model2_increase_lr.compile(optimizer = tf.keras.optimizers.adam(learning_rate=0.01)\n",
    ", loss = \"sparse_categorical_crossentropy\", metrics = [\"accuracy\"])\n",
    "\n",
    "model2_increase_lr.fit(x_train, y_train, epochs = 4)\n",
    "\n",
    "accuracy(model2_increase_lr, x_test, y_test)\n",
    "roc_curve(model2_increase_lr, x_test, y_test)\n",
    "precision_recall(model2_increase_lr, x_test, y_test)"
   ]
  },
  {
   "cell_type": "code",
   "execution_count": null,
   "metadata": {},
   "outputs": [],
   "source": [
    "model2_decrease_lr = keras.Sequential([\n",
    "        layers.Conv2D(filters=6, kernel_size=(3, 3), activation='relu', input_shape=(28,28,1)),\n",
    "        layers.AveragePooling2D(),\n",
    "        layers.Conv2D(filters=16, kernel_size=(3, 3), activation='relu'),\n",
    "        layers.AveragePooling2D(),\n",
    "        layers.Flatten(),\n",
    "        layers.Dense(units=120, activation='relu'),\n",
    "        layers.Dense(units=84, activation='relu'),\n",
    "        layers.Dense(units=10, activation = 'softmax')\n",
    "    ])\n",
    "\n",
    "model2_decrease_lr.compile(optimizer = tf.keras.optimizers.adam(learning_rate=0.0001)\n",
    ", loss = \"sparse_categorical_crossentropy\", metrics = [\"accuracy\"])\n",
    "\n",
    "model2_decrease_lr.fit(x_train, y_train, epochs = 4)\n",
    "\n",
    "accuracy(model2_decrease_lr, x_test, y_test)\n",
    "roc_curve(model2_decrease_lr, x_test, y_test)\n",
    "precision_recall(model2_decrease_lr, x_test, y_test)"
   ]
  },
  {
   "cell_type": "markdown",
   "metadata": {},
   "source": [
    "The vanilla second model had an accuracy of about 0.9875. By increasing the learning rate times 10 the accuracy  drops slightly to about 0.9839 . When decreasing the learning rate through a division of 10 the accuracy also drops, but now even worse to about 0.9646 .\n",
    "\n",
    "Let us take a look at the different curves. The vanilla version had an almost perfect precision-recall curve, where half of the labels were labeled correctly all the time and the other labels 99% of the times. Yet both increasing and decreasing the learning rate deteriorates the good results by serveral percentages. Here again the decreasing model performs worse then the increasing model.\n",
    "\n",
    "**TODO: ROC Curve**\n",
    "\n",
    "When the learning rate is too large, then the algorithm might overshoot its goal, but when the learning rate is too small it might never reach the local minimum (or at least take to much time). Our initial learning rate seems to lie in the desired interval, since increasing or decreasing the learning rare reduces performance. The interval is still quite large: from 0.01 to 0.0001. An imporovement to the model would be to further narrow down this interval to optimise the choice for the learning rate."
   ]
  },
  {
   "cell_type": "markdown",
   "metadata": {},
   "source": [
    "#### Batch Size"
   ]
  },
  {
   "cell_type": "markdown",
   "metadata": {},
   "source": [
    "Batch size describe the number of datapoints used in gradient descent, a larger batch size can help you train the model more quickly however at the cost of accuracy. A smaller batch size causes more noise but can reduce generalization error thus have a higher accuracy. Another adventage is that when using GPU, smaller batch size can allow paralle execution since a smaller batch can fit easier in the memory unit."
   ]
  },
  {
   "cell_type": "code",
   "execution_count": 3,
   "metadata": {},
   "outputs": [
    {
     "name": "stdout",
     "output_type": "stream",
     "text": [
      "Model: \"sequential\"\n",
      "_________________________________________________________________\n",
      "Layer (type)                 Output Shape              Param #   \n",
      "=================================================================\n",
      "conv2d (Conv2D)              (None, 26, 26, 6)         60        \n",
      "_________________________________________________________________\n",
      "average_pooling2d (AveragePo (None, 13, 13, 6)         0         \n",
      "_________________________________________________________________\n",
      "conv2d_1 (Conv2D)            (None, 11, 11, 16)        880       \n",
      "_________________________________________________________________\n",
      "average_pooling2d_1 (Average (None, 5, 5, 16)          0         \n",
      "_________________________________________________________________\n",
      "flatten (Flatten)            (None, 400)               0         \n",
      "_________________________________________________________________\n",
      "dense (Dense)                (None, 120)               48120     \n",
      "_________________________________________________________________\n",
      "dense_1 (Dense)              (None, 84)                10164     \n",
      "_________________________________________________________________\n",
      "dense_2 (Dense)              (None, 10)                850       \n",
      "=================================================================\n",
      "Total params: 60,074\n",
      "Trainable params: 60,074\n",
      "Non-trainable params: 0\n",
      "_________________________________________________________________\n",
      "Train on 60000 samples\n",
      "Epoch 1/4\n",
      "60000/60000 [==============================] - 25s 418us/sample - loss: 0.1750 - accuracy: 0.9466\n",
      "Epoch 2/4\n",
      "60000/60000 [==============================] - 25s 414us/sample - loss: 0.0660 - accuracy: 0.9796\n",
      "Epoch 3/4\n",
      "60000/60000 [==============================] - 25s 414us/sample - loss: 0.0456 - accuracy: 0.9854\n",
      "Epoch 4/4\n",
      "60000/60000 [==============================] - 25s 410us/sample - loss: 0.0346 - accuracy: 0.9887\n"
     ]
    },
    {
     "data": {
      "text/plain": [
       "<tensorflow.python.keras.callbacks.History at 0x1616441d0>"
      ]
     },
     "execution_count": 3,
     "metadata": {},
     "output_type": "execute_result"
    }
   ],
   "source": [
    "\n",
    "#batch size is defaut to 32\n",
    "\n",
    "model2_batch_size3 = keras.Sequential([\n",
    "        layers.Conv2D(filters=6, kernel_size=(3, 3), activation='relu', input_shape=(28,28,1)),\n",
    "        layers.AveragePooling2D(),\n",
    "        layers.Conv2D(filters=16, kernel_size=(3, 3), activation='relu'),\n",
    "        layers.AveragePooling2D(),\n",
    "        layers.Flatten(),\n",
    "        layers.Dense(units=120, activation='relu'),\n",
    "        layers.Dense(units=84, activation='relu'),\n",
    "        layers.Dense(units=10, activation = 'softmax')\n",
    "    ])\n",
    "\n",
    "\n",
    "model2_batch_size3.summary()\n",
    "model2_batch_size3.compile(optimizer = \"adam\", loss = \"sparse_categorical_crossentropy\",\n",
    "                metrics = [\"accuracy\"])\n",
    "\n",
    "# x_train = np.pad(x_train, ((0,0),(2,2),(2,2),(0,0)), 'constant')\n",
    "model2_batch_size3.fit(x_train, y_train, batch_size=8, epochs = 4)"
   ]
  },
  {
   "cell_type": "code",
   "execution_count": 4,
   "metadata": {},
   "outputs": [
    {
     "name": "stdout",
     "output_type": "stream",
     "text": [
      "Model: \"sequential_1\"\n",
      "_________________________________________________________________\n",
      "Layer (type)                 Output Shape              Param #   \n",
      "=================================================================\n",
      "conv2d_2 (Conv2D)            (None, 26, 26, 6)         60        \n",
      "_________________________________________________________________\n",
      "average_pooling2d_2 (Average (None, 13, 13, 6)         0         \n",
      "_________________________________________________________________\n",
      "conv2d_3 (Conv2D)            (None, 11, 11, 16)        880       \n",
      "_________________________________________________________________\n",
      "average_pooling2d_3 (Average (None, 5, 5, 16)          0         \n",
      "_________________________________________________________________\n",
      "flatten_1 (Flatten)          (None, 400)               0         \n",
      "_________________________________________________________________\n",
      "dense_3 (Dense)              (None, 120)               48120     \n",
      "_________________________________________________________________\n",
      "dense_4 (Dense)              (None, 84)                10164     \n",
      "_________________________________________________________________\n",
      "dense_5 (Dense)              (None, 10)                850       \n",
      "=================================================================\n",
      "Total params: 60,074\n",
      "Trainable params: 60,074\n",
      "Non-trainable params: 0\n",
      "_________________________________________________________________\n",
      "Train on 60000 samples\n",
      "Epoch 1/4\n",
      "60000/60000 [==============================] - 16s 271us/sample - loss: 0.1879 - accuracy: 0.9420\n",
      "Epoch 2/4\n",
      "60000/60000 [==============================] - 16s 265us/sample - loss: 0.0658 - accuracy: 0.9794\n",
      "Epoch 3/4\n",
      "60000/60000 [==============================] - 16s 265us/sample - loss: 0.0466 - accuracy: 0.9859\n",
      "Epoch 4/4\n",
      "60000/60000 [==============================] - 16s 265us/sample - loss: 0.0359 - accuracy: 0.9889\n"
     ]
    },
    {
     "data": {
      "text/plain": [
       "<tensorflow.python.keras.callbacks.History at 0x10d565150>"
      ]
     },
     "execution_count": 4,
     "metadata": {},
     "output_type": "execute_result"
    }
   ],
   "source": [
    "model2_batch_size2 = keras.Sequential([\n",
    "        layers.Conv2D(filters=6, kernel_size=(3, 3), activation='relu', input_shape=(28,28,1)),\n",
    "        layers.AveragePooling2D(),\n",
    "        layers.Conv2D(filters=16, kernel_size=(3, 3), activation='relu'),\n",
    "        layers.AveragePooling2D(),\n",
    "        layers.Flatten(),\n",
    "        layers.Dense(units=120, activation='relu'),\n",
    "        layers.Dense(units=84, activation='relu'),\n",
    "        layers.Dense(units=10, activation = 'softmax')\n",
    "    ])\n",
    "\n",
    "\n",
    "model2_batch_size2.summary()\n",
    "model2_batch_size2.compile(optimizer = \"adam\", loss = \"sparse_categorical_crossentropy\",\n",
    "                metrics = [\"accuracy\"])\n",
    "\n",
    "# x_train = np.pad(x_train, ((0,0),(2,2),(2,2),(0,0)), 'constant')\n",
    "model2_batch_size2.fit(x_train, y_train, batch_size=16, epochs = 4)"
   ]
  },
  {
   "cell_type": "code",
   "execution_count": 5,
   "metadata": {},
   "outputs": [
    {
     "name": "stdout",
     "output_type": "stream",
     "text": [
      "Model: \"sequential_2\"\n",
      "_________________________________________________________________\n",
      "Layer (type)                 Output Shape              Param #   \n",
      "=================================================================\n",
      "conv2d_4 (Conv2D)            (None, 26, 26, 6)         60        \n",
      "_________________________________________________________________\n",
      "average_pooling2d_4 (Average (None, 13, 13, 6)         0         \n",
      "_________________________________________________________________\n",
      "conv2d_5 (Conv2D)            (None, 11, 11, 16)        880       \n",
      "_________________________________________________________________\n",
      "average_pooling2d_5 (Average (None, 5, 5, 16)          0         \n",
      "_________________________________________________________________\n",
      "flatten_2 (Flatten)          (None, 400)               0         \n",
      "_________________________________________________________________\n",
      "dense_6 (Dense)              (None, 120)               48120     \n",
      "_________________________________________________________________\n",
      "dense_7 (Dense)              (None, 84)                10164     \n",
      "_________________________________________________________________\n",
      "dense_8 (Dense)              (None, 10)                850       \n",
      "=================================================================\n",
      "Total params: 60,074\n",
      "Trainable params: 60,074\n",
      "Non-trainable params: 0\n",
      "_________________________________________________________________\n",
      "Train on 60000 samples\n",
      "Epoch 1/4\n",
      "60000/60000 [==============================] - 8s 125us/sample - loss: 0.3139 - accuracy: 0.9053\n",
      "Epoch 2/4\n",
      "60000/60000 [==============================] - 7s 120us/sample - loss: 0.0998 - accuracy: 0.9688\n",
      "Epoch 3/4\n",
      "60000/60000 [==============================] - 7s 121us/sample - loss: 0.0701 - accuracy: 0.9780\n",
      "Epoch 4/4\n",
      "60000/60000 [==============================] - 7s 117us/sample - loss: 0.0546 - accuracy: 0.9830\n"
     ]
    },
    {
     "data": {
      "text/plain": [
       "<tensorflow.python.keras.callbacks.History at 0x143dd70d0>"
      ]
     },
     "execution_count": 5,
     "metadata": {},
     "output_type": "execute_result"
    }
   ],
   "source": [
    "model2_batch_size = keras.Sequential([\n",
    "        layers.Conv2D(filters=6, kernel_size=(3, 3), activation='relu', input_shape=(28,28,1)),\n",
    "        layers.AveragePooling2D(),\n",
    "        layers.Conv2D(filters=16, kernel_size=(3, 3), activation='relu'),\n",
    "        layers.AveragePooling2D(),\n",
    "        layers.Flatten(),\n",
    "        layers.Dense(units=120, activation='relu'),\n",
    "        layers.Dense(units=84, activation='relu'),\n",
    "        layers.Dense(units=10, activation = 'softmax')\n",
    "    ])\n",
    "\n",
    "\n",
    "model2_batch_size.summary()\n",
    "model2_batch_size.compile(optimizer = \"adam\", loss = \"sparse_categorical_crossentropy\",\n",
    "                metrics = [\"accuracy\"])\n",
    "\n",
    "# x_train = np.pad(x_train, ((0,0),(2,2),(2,2),(0,0)), 'constant')\n",
    "model2_batch_size.fit(x_train, y_train, batch_size=64, epochs = 4)"
   ]
  },
  {
   "cell_type": "code",
   "execution_count": 6,
   "metadata": {},
   "outputs": [
    {
     "name": "stdout",
     "output_type": "stream",
     "text": [
      "Model: \"sequential_3\"\n",
      "_________________________________________________________________\n",
      "Layer (type)                 Output Shape              Param #   \n",
      "=================================================================\n",
      "conv2d_6 (Conv2D)            (None, 26, 26, 6)         60        \n",
      "_________________________________________________________________\n",
      "average_pooling2d_6 (Average (None, 13, 13, 6)         0         \n",
      "_________________________________________________________________\n",
      "conv2d_7 (Conv2D)            (None, 11, 11, 16)        880       \n",
      "_________________________________________________________________\n",
      "average_pooling2d_7 (Average (None, 5, 5, 16)          0         \n",
      "_________________________________________________________________\n",
      "flatten_3 (Flatten)          (None, 400)               0         \n",
      "_________________________________________________________________\n",
      "dense_9 (Dense)              (None, 120)               48120     \n",
      "_________________________________________________________________\n",
      "dense_10 (Dense)             (None, 84)                10164     \n",
      "_________________________________________________________________\n",
      "dense_11 (Dense)             (None, 10)                850       \n",
      "=================================================================\n",
      "Total params: 60,074\n",
      "Trainable params: 60,074\n",
      "Non-trainable params: 0\n",
      "_________________________________________________________________\n",
      "Train on 60000 samples\n",
      "Epoch 1/4\n",
      "60000/60000 [==============================] - 6s 98us/sample - loss: 0.4148 - accuracy: 0.8827\n",
      "Epoch 2/4\n",
      "60000/60000 [==============================] - 6s 93us/sample - loss: 0.1197 - accuracy: 0.9642\n",
      "Epoch 3/4\n",
      "60000/60000 [==============================] - 6s 94us/sample - loss: 0.0855 - accuracy: 0.9740\n",
      "Epoch 4/4\n",
      "60000/60000 [==============================] - 6s 94us/sample - loss: 0.0691 - accuracy: 0.9794\n"
     ]
    },
    {
     "data": {
      "text/plain": [
       "<tensorflow.python.keras.callbacks.History at 0x132e44f10>"
      ]
     },
     "execution_count": 6,
     "metadata": {},
     "output_type": "execute_result"
    }
   ],
   "source": [
    "model2_batch_size4 = keras.Sequential([\n",
    "        layers.Conv2D(filters=6, kernel_size=(3, 3), activation='relu', input_shape=(28,28,1)),\n",
    "        layers.AveragePooling2D(),\n",
    "        layers.Conv2D(filters=16, kernel_size=(3, 3), activation='relu'),\n",
    "        layers.AveragePooling2D(),\n",
    "        layers.Flatten(),\n",
    "        layers.Dense(units=120, activation='relu'),\n",
    "        layers.Dense(units=84, activation='relu'),\n",
    "        layers.Dense(units=10, activation = 'softmax')\n",
    "    ])\n",
    "\n",
    "\n",
    "model2_batch_size4.summary()\n",
    "model2_batch_size4.compile(optimizer = \"adam\", loss = \"sparse_categorical_crossentropy\",\n",
    "                metrics = [\"accuracy\"])\n",
    "\n",
    "# x_train = np.pad(x_train, ((0,0),(2,2),(2,2),(0,0)), 'constant')\n",
    "model2_batch_size4.fit(x_train, y_train, batch_size=128, epochs = 4)"
   ]
  },
  {
   "cell_type": "markdown",
   "metadata": {},
   "source": [
    "#### Number of epochs\n",
    "\n",
    "An epoch refers to one full cycle through the training data. Until this point we have been training with four epochs. This means that the classifier looks at every training example four times in total to train the network. As seen above when fitting the network, we get the following output:\n",
    "\n",
    "```\n",
    "Epoch 1/4\n",
    "60000/60000 [==============================] - 20s 338us/sample - loss: 0.2497 - acc: 0.9249\n",
    "Epoch 2/4\n",
    "60000/60000 [==============================] - 19s 311us/sample - loss: 0.0817 - acc: 0.9747\n",
    "Epoch 3/4\n",
    "60000/60000 [==============================] - 21s 343us/sample - loss: 0.0558 - acc: 0.9823\n",
    "Epoch 4/4\n",
    "60000/60000 [==============================] - 20s 334us/sample - loss: 0.0430 - acc: 0.9865\n",
    "```\n",
    "\n",
    "\n",
    "Notice how each epoch requires about the same amount of time, but the more epochs you use, the more time it requires to train the network. Also notice how the loss decreases and the accuracy increases with each extra epoch. This reveals a certain trade-off; accuracy or shorter training time. Of course we cannot keep increasing the amount of epochs for ever and expect an continuing increase of the accuracy. At a ceratain point the loss will start to increase because of overfitting. Let us look for the amount of epochs where the loss starts to rise again. This is the optimal in terms of loss, since it is the local minimum.\n",
    "\n",
    "Now to save you the time of running the blow 15 epochs, the results will be displayed after the code."
   ]
  },
  {
   "cell_type": "code",
   "execution_count": null,
   "metadata": {
    "scrolled": true
   },
   "outputs": [],
   "source": [
    "model2_epochs = keras.Sequential([\n",
    "        layers.Conv2D(filters=6, kernel_size=(3, 3), activation='relu', input_shape=(28,28,1)),\n",
    "        layers.AveragePooling2D(),\n",
    "        layers.Conv2D(filters=16, kernel_size=(3, 3), activation='relu'),\n",
    "        layers.AveragePooling2D(),\n",
    "        layers.Flatten(),\n",
    "        layers.Dense(units=120, activation='relu'),\n",
    "        layers.Dense(units=84, activation='relu'),\n",
    "        layers.Dense(units=10, activation = 'softmax')\n",
    "    ])\n",
    "\n",
    "\n",
    "model2_epochs.compile(optimizer = \"adam\", loss = \"sparse_categorical_crossentropy\",\n",
    "                metrics = [\"accuracy\"])\n",
    "\n",
    "# x_train = np.pad(x_train, ((0,0),(2,2),(2,2),(0,0)), 'constant')\n",
    "model2_epochs.fit(x_train, y_train, epochs = 15)"
   ]
  },
  {
   "cell_type": "markdown",
   "metadata": {},
   "source": [
    "```\n",
    "Epoch 1/30\n",
    "60000/60000 [==============================] - 26s 438us/sample - loss: 0.2179 - acc: 0.9363\n",
    "Epoch 2/30\n",
    "60000/60000 [==============================] - 23s 390us/sample - loss: 0.0717 - acc: 0.9779\n",
    "Epoch 3/30\n",
    "60000/60000 [==============================] - 24s 396us/sample - loss: 0.0518 - acc: 0.9840\n",
    "Epoch 4/30\n",
    "60000/60000 [==============================] - 24s 401us/sample - loss: 0.0416 - acc: 0.9869\n",
    "Epoch 5/30\n",
    "60000/60000 [==============================] - 29s 483us/sample - loss: 0.0340 - acc: 0.9895\n",
    "Epoch 6/30\n",
    "60000/60000 [==============================] - 27s 456us/sample - loss: 0.0283 - acc: 0.9912\n",
    "Epoch 7/30\n",
    "60000/60000 [==============================] - 28s 460us/sample - loss: 0.0229 - acc: 0.9926\n",
    "Epoch 8/30\n",
    "60000/60000 [==============================] - 28s 468us/sample - loss: 0.0195 - acc: 0.9941\n",
    "Epoch 9/30\n",
    "60000/60000 [==============================] - 34s 560us/sample - loss: 0.0179 - acc: 0.9942\n",
    "Epoch 10/30\n",
    "60000/60000 [==============================] - 39s 643us/sample - loss: 0.0151 - acc: 0.9953\n",
    "Epoch 11/30\n",
    "60000/60000 [==============================] - 33s 549us/sample - loss: 0.0143 - acc: 0.9953\n",
    "Epoch 12/30\n",
    "60000/60000 [==============================] - 33s 554us/sample - loss: 0.0106 - acc: 0.9964\n",
    "Epoch 13/30\n",
    "60000/60000 [==============================] - 29s 490us/sample - loss: 0.0108 - acc: 0.9963\n",
    "```\n",
    "\n",
    "After 12 epochs the loss show a small increase. So the optimal amount of epochs for this CNN is 12. Now when appling more epochs we see that the loss starts to fluctuate and decreases gently. This is expected, but overfitting  makes the classifier unreliable.\n",
    "\n",
    "Note that running this code again might result in some different values. Yet the same reasoning holds."
   ]
  },
  {
   "cell_type": "markdown",
   "metadata": {},
   "source": [
    "#### Kernel size\n",
    "\n",
    "In this section, we would like to see the results of varied kernel sizes on our model. \n",
    "As seen from the roiginial second model with kernel sizes (3, 3) at each layer, we get an accuracy of 0.984 on the test set as defined below:\n",
    "\n",
    "    10000/10000 [==============================] - 2s 159us/sample - loss: 0.0459 - acc: 0.9841\n",
    "    test loss is : 0.04586207606535172 - test accuracy is : 0.9840999841690063\n",
    "\n",
    "We set the first layer of the network with kernel size of (5, 5) and the second remains same at (3, 3) and we get an accuracy of 0.983 on the test set as shown below. This is an improvement on the original model with both kernels at (3, 3).\n",
    "    \n",
    "    10000/10000 [==============================] - 3s 307us/sample - loss: 0.0525 - accuracy: 0.9835\n",
    "    test loss is : 0.05253282631125767 - test accuracy is : 0.9835000038146973\n",
    "    \n",
    "Changing the kernal size of first layer to (6, 6) gives an accuracy of  0.986 and (2, 2) gives an accuracy of 0.986.\n",
    "\n",
    "    10000/10000 [==============================] - 3s 339us/sample - loss: 0.0408 - accuracy: 0.9862\n",
    "    test loss is : 0.0407773371128249 - test accuracy is : 0.9861999750137329\n",
    "    "
   ]
  },
  {
   "cell_type": "code",
   "execution_count": 16,
   "metadata": {},
   "outputs": [
    {
     "name": "stdout",
     "output_type": "stream",
     "text": [
      "Train on 60000 samples\n",
      "Epoch 1/4\n",
      "60000/60000 [==============================] - 131s 2ms/sample - loss: 0.2081 - accuracy: 0.9390\n",
      "Epoch 2/4\n",
      "60000/60000 [==============================] - 141s 2ms/sample - loss: 0.0692 - accuracy: 0.9790\n",
      "Epoch 3/4\n",
      "60000/60000 [==============================] - 146s 2ms/sample - loss: 0.0496 - accuracy: 0.9854\n",
      "Epoch 4/4\n",
      "60000/60000 [==============================] - 143s 2ms/sample - loss: 0.0382 - accuracy: 0.9880\n",
      "10000/10000 [==============================] - 4s 376us/sample - loss: 0.0328 - accuracy: 0.9896\n",
      "test loss is : 0.03284961047746474 - test accuracy is : 0.9896000027656555\n"
     ]
    }
   ],
   "source": [
    "model2 = keras.Sequential([\n",
    "        layers.Conv2D(filters=6, kernel_size=(5, 5), activation='relu', input_shape=(28,28,1)),\n",
    "        layers.AveragePooling2D(),\n",
    "        layers.Conv2D(filters=16, kernel_size=(3, 3), activation='relu'),\n",
    "        layers.AveragePooling2D(),\n",
    "        layers.Flatten(),\n",
    "        layers.Dense(units=120, activation='relu'),\n",
    "        layers.Dense(units=84, activation='relu'),\n",
    "        layers.Dense(units=10, activation = 'softmax')\n",
    "    ])\n",
    "\n",
    "\n",
    "#model2.summary()\n",
    "model2.compile(optimizer = \"adam\", loss = \"sparse_categorical_crossentropy\",\n",
    "                metrics = [\"accuracy\"])\n",
    "\n",
    "# x_train = np.pad(x_train, ((0,0),(2,2),(2,2),(0,0)), 'constant')\n",
    "model2.fit(x_train, y_train, epochs = 4)\n",
    "# Accuracy:\n",
    "accuracy(model2, x_test, y_test)"
   ]
  },
  {
   "cell_type": "markdown",
   "metadata": {},
   "source": [
    "we can see changing the kernel size alone does not significantly increase the accuracy of the model\n",
    "###### NOTE \n",
    "rerunning th above code might give different results"
   ]
  },
  {
   "cell_type": "code",
   "execution_count": null,
   "metadata": {},
   "outputs": [],
   "source": []
  },
  {
   "cell_type": "markdown",
   "metadata": {},
   "source": [
    "## Loss functions\n",
    "throughout our work, we have used the sparse_categorical_crossentropy loss on our model\n",
    "\n",
    "Still experimenting on our second model, we woud like to see the effects of different loss functions.\n",
    "#### Mean Squared Error (MSE)- \n",
    "MSE measures the average squared difference between the estimated values and the actual values.\n",
    "With MSE, it is a requirement that the output layer has just one node and also he linear activation function is used in this respect"
   ]
  },
  {
   "cell_type": "code",
   "execution_count": 22,
   "metadata": {},
   "outputs": [
    {
     "name": "stdout",
     "output_type": "stream",
     "text": [
      "Train on 60000 samples\n",
      "Epoch 1/4\n",
      "60000/60000 [==============================] - 134s 2ms/sample - loss: 1.7078 - accuracy: 0.1725\n",
      "Epoch 2/4\n",
      "60000/60000 [==============================] - 140s 2ms/sample - loss: 0.5263 - accuracy: 0.1968\n",
      "Epoch 3/4\n",
      "60000/60000 [==============================] - 139s 2ms/sample - loss: 0.3594 - accuracy: 0.2016\n",
      "Epoch 4/4\n",
      "60000/60000 [==============================] - 137s 2ms/sample - loss: 0.2779 - accuracy: 0.2045\n",
      "10000/10000 [==============================] - 2s 241us/sample - loss: 0.3036 - accuracy: 0.2084\n",
      "test loss is : 0.3035802862644196 - test accuracy is : 0.20839999616146088\n"
     ]
    }
   ],
   "source": [
    "model2 = keras.Sequential([\n",
    "        layers.Conv2D(filters=6, kernel_size=(5, 5), activation='relu', input_shape=(28,28,1)),\n",
    "        layers.AveragePooling2D(),\n",
    "        layers.Conv2D(filters=16, kernel_size=(3, 3), activation='relu', padding='same'),\n",
    "        layers.AveragePooling2D(),\n",
    "        layers.Flatten(),\n",
    "        layers.Dense(units=120, activation='relu'),\n",
    "        layers.Dense(units=84, activation='relu'),\n",
    "        layers.Dense(units=1, activation = 'linear')   \n",
    "    ])\n",
    "\n",
    "\n",
    "#model2.summary()\n",
    "\n",
    "model2.compile(optimizer = \"adam\", loss = \"mse\",\n",
    "                metrics = [\"accuracy\"])\n",
    "\n",
    "# x_train = np.pad(x_train, ((0,0),(2,2),(2,2),(0,0)), 'constant')\n",
    "model2.fit(x_train, y_train, epochs = 4)\n",
    "# Accuracy:\n",
    "accuracy(model2, x_test, y_test)"
   ]
  },
  {
   "cell_type": "markdown",
   "metadata": {},
   "source": [
    "Choosing the MSE as the loss function is not the best choice. We have 10 different\n",
    "numbers to predict where each is assigned to a neuron on the output layer. But MSE \n",
    "requires only one neuron on the output layer which is good for predicting just one type of value.\n",
    "we can clearly see from above that this performs poorly for our type of data. Let us analyse the ROC curve associated with using this loss function.\n",
    "Also since MSE loss is for regression, it cannot be used for this classification model.\n",
    "\n",
    "\n",
    "#### categorical crossentropy Loss\n",
    "to use this loss function, we need to hot encode one of the target set.\n",
    "\n",
    "This is to ensure that each example has an expected probability of 1.0 for the actual class value and an expected probability of 0.0 for all other class values. The efficiency of this loss is almost the same as sparse_categorical_crossentropy."
   ]
  },
  {
   "cell_type": "code",
   "execution_count": 41,
   "metadata": {},
   "outputs": [
    {
     "name": "stdout",
     "output_type": "stream",
     "text": [
      "shape before adding dimension is : (60000, 28, 28)\n",
      "shape after adding dimension is : (60000, 28, 28, 1)\n",
      "Train on 60000 samples\n",
      "Epoch 1/4\n",
      "60000/60000 [==============================] - 131s 2ms/sample - loss: 0.2338 - accuracy: 0.9281\n",
      "Epoch 2/4\n",
      "60000/60000 [==============================] - 129s 2ms/sample - loss: 0.0751 - accuracy: 0.9770\n",
      "Epoch 3/4\n",
      "60000/60000 [==============================] - 136s 2ms/sample - loss: 0.0534 - accuracy: 0.9832\n",
      "Epoch 4/4\n",
      "60000/60000 [==============================] - 140s 2ms/sample - loss: 0.0423 - accuracy: 0.9873\n",
      "60000/60000 [==============================] - 14s 228us/sample - loss: 0.0264 - accuracy: 0.9919\n",
      "test loss is : 0.026388362831133418 - test accuracy is : 0.9918666481971741\n"
     ]
    }
   ],
   "source": [
    "from keras.utils import to_categorical\n",
    "\n",
    "mnist = tf.keras.datasets.mnist\n",
    "(x_train, y_train), (x_test, y_test) = mnist.load_data()\n",
    "#hot encoding\n",
    "y_train = to_categorical(y_train)\n",
    "y_test = to_categorical(y_test)\n",
    "\n",
    "x_train, x_test = x_train/255.0, x_test/255.0\n",
    "print('shape before adding dimension is :' ,x_train.shape)\n",
    "x_train, x_test = np.expand_dims(x_train, axis= -1), np.expand_dims(x_test, axis = -1)\n",
    "x_train = x_train.reshape(x_train.shape[0],28,28,1)\n",
    "x_test = x_test.reshape(x_test.shape[0],28,28,1)\n",
    "print ('shape after adding dimension is :' ,x_train.shape)\n",
    "\n",
    "model2 = keras.Sequential([\n",
    "        layers.Conv2D(filters=6, kernel_size=(5, 5), activation='relu', input_shape=(28,28,1)),\n",
    "        layers.AveragePooling2D(),\n",
    "        layers.Conv2D(filters=16, kernel_size=(3, 3), activation='relu', padding='same'),\n",
    "        layers.AveragePooling2D(),\n",
    "        layers.Flatten(),\n",
    "        layers.Dense(units=120, activation='relu'),\n",
    "        layers.Dense(units=84, activation='relu'),\n",
    "        layers.Dense(units=10, activation = 'softmax')   \n",
    "    ])\n",
    "\n",
    "#y_binary = to_categorical(y_train)\n",
    "#x_binary = to_categorical(x_train)\n",
    "#model2.summary()\n",
    "\n",
    "model2.compile(optimizer = \"adam\", loss = \"categorical_crossentropy\",\n",
    "                metrics = [\"accuracy\"])\n",
    "\n",
    "# x_train = np.pad(x_train, ((0,0),(2,2),(2,2),(0,0)), 'constant')\n",
    "model2.fit(x_train, y_train, epochs = 4)\n",
    "# Accuracy:\n",
    "accuracy(model2, x_train, y_train)"
   ]
  },
  {
   "cell_type": "markdown",
   "metadata": {},
   "source": [
    "this even gives us a more acuracy of 0.99\n",
    "\n",
    "\n",
    "#### kullback leibler divergence Loss"
   ]
  },
  {
   "cell_type": "code",
   "execution_count": 5,
   "metadata": {},
   "outputs": [
    {
     "name": "stderr",
     "output_type": "stream",
     "text": [
      "Using TensorFlow backend.\n"
     ]
    },
    {
     "name": "stdout",
     "output_type": "stream",
     "text": [
      "shape before adding dimension is : (60000, 28, 28)\n",
      "shape after adding dimension is : (60000, 28, 28, 1)\n",
      "Train on 60000 samples\n",
      "Epoch 1/4\n",
      "60000/60000 [==============================] - 142s 2ms/sample - loss: 0.2218 - accuracy: 0.9329\n",
      "Epoch 2/4\n",
      "60000/60000 [==============================] - 139s 2ms/sample - loss: 0.0771 - accuracy: 0.9772\n",
      "Epoch 3/4\n",
      "60000/60000 [==============================] - 132s 2ms/sample - loss: 0.0539 - accuracy: 0.9833\n",
      "Epoch 4/4\n",
      "60000/60000 [==============================] - 134s 2ms/sample - loss: 0.0438 - accuracy: 0.9867\n",
      "10000/10000 [==============================] - 2s 207us/sample - loss: 0.0453 - accuracy: 0.9841\n",
      "test loss is : 0.045281700043566527 - test accuracy is : 0.9840999841690063\n"
     ]
    }
   ],
   "source": [
    "from keras.utils import to_categorical\n",
    "\n",
    "mnist = tf.keras.datasets.mnist\n",
    "(x_train, y_train), (x_test, y_test) = mnist.load_data()\n",
    "#hot encoding\n",
    "y_train = to_categorical(y_train)\n",
    "y_test = to_categorical(y_test)\n",
    "\n",
    "x_train, x_test = x_train/255.0, x_test/255.0\n",
    "print('shape before adding dimension is :' ,x_train.shape)\n",
    "x_train, x_test = np.expand_dims(x_train, axis= -1), np.expand_dims(x_test, axis = -1)\n",
    "x_train = x_train.reshape(x_train.shape[0],28,28,1)\n",
    "x_test = x_test.reshape(x_test.shape[0],28,28,1)\n",
    "print ('shape after adding dimension is :' ,x_train.shape)\n",
    "\n",
    "\n",
    "model2 = keras.Sequential([\n",
    "        layers.Conv2D(filters=6, kernel_size=(5, 5), activation='relu', input_shape=(28,28,1)),\n",
    "        layers.AveragePooling2D(),\n",
    "        layers.Conv2D(filters=16, kernel_size=(3, 3), activation='relu', padding='same'),\n",
    "        layers.AveragePooling2D(),\n",
    "        layers.Flatten(),\n",
    "        layers.Dense(units=120, activation='relu'),\n",
    "        layers.Dense(units=84, activation='relu'),\n",
    "        layers.Dense(units=10, activation = 'softmax')   \n",
    "    ])\n",
    "\n",
    "\n",
    "#model2.summary()\n",
    "\n",
    "model2.compile(optimizer = \"adam\", loss = \"kullback_leibler_divergence\",\n",
    "                metrics = [\"accuracy\"])\n",
    "\n",
    "# x_train = np.pad(x_train, ((0,0),(2,2),(2,2),(0,0)), 'constant')\n",
    "model2.fit(x_train, y_train, epochs = 4)\n",
    "# Accuracy:\n",
    "accuracy(model2, x_test, y_test)"
   ]
  },
  {
   "cell_type": "code",
   "execution_count": null,
   "metadata": {},
   "outputs": [],
   "source": []
  }
 ],
 "metadata": {
  "kernelspec": {
   "display_name": "Python 3",
   "language": "python",
   "name": "python3"
  },
  "language_info": {
   "codemirror_mode": {
    "name": "ipython",
    "version": 3
   },
   "file_extension": ".py",
   "mimetype": "text/x-python",
   "name": "python",
   "nbconvert_exporter": "python",
   "pygments_lexer": "ipython3",
   "version": "3.7.6"
  }
 },
 "nbformat": 4,
 "nbformat_minor": 2
}
